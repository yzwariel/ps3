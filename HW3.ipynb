{
 "cells": [
  {
   "cell_type": "code",
   "execution_count": 1,
   "metadata": {
    "collapsed": true
   },
   "outputs": [],
   "source": [
    "#Code for the pipeline was significantly inspired on:\n",
    "# /rayidghani/magicloops/blob/master/magicloops.py\n",
    "# /hectorsalvador/ML_for_Public_Policy"
   ]
  },
  {
   "cell_type": "code",
   "execution_count": 22,
   "metadata": {
    "collapsed": false
   },
   "outputs": [],
   "source": [
    "%matplotlib inline\n",
    "import pandas as pd\n",
    "import numpy as np\n",
    "import json\n",
    "\n",
    "import matplotlib.pyplot as plt\n",
    "import pylab as pl\n",
    "pd.options.display.max_rows = 99\n",
    "pd.options.display.max_columns = 99\n",
    "\n",
    "# import pipline files:\n",
    "import read\n",
    "import explore\n",
    "import clean\n",
    "import features\n",
    "import classify\n",
    "import evaluate\n",
    "\n",
    "#Global Variable:\n",
    "DEP_VAR ='SeriousDlqin2yrs'\n",
    "explore.DEP_VAR ='SeriousDlqin2yrs'\n",
    "explore.LEAD_VAR = 2"
   ]
  },
  {
   "cell_type": "code",
   "execution_count": 2,
   "metadata": {
    "collapsed": false
   },
   "outputs": [
    {
     "data": {
      "text/html": [
       "<div>\n",
       "<table border=\"1\" class=\"dataframe\">\n",
       "  <thead>\n",
       "    <tr style=\"text-align: right;\">\n",
       "      <th></th>\n",
       "      <th>PersonID</th>\n",
       "      <th>SeriousDlqin2yrs</th>\n",
       "      <th>RevolvingUtilizationOfUnsecuredLines</th>\n",
       "      <th>age</th>\n",
       "      <th>zipcode</th>\n",
       "      <th>NumberOfTime30-59DaysPastDueNotWorse</th>\n",
       "      <th>DebtRatio</th>\n",
       "      <th>MonthlyIncome</th>\n",
       "      <th>NumberOfOpenCreditLinesAndLoans</th>\n",
       "      <th>NumberOfTimes90DaysLate</th>\n",
       "      <th>NumberRealEstateLoansOrLines</th>\n",
       "      <th>NumberOfTime60-89DaysPastDueNotWorse</th>\n",
       "      <th>NumberOfDependents</th>\n",
       "    </tr>\n",
       "  </thead>\n",
       "  <tbody>\n",
       "    <tr>\n",
       "      <th>0</th>\n",
       "      <td>1</td>\n",
       "      <td>1</td>\n",
       "      <td>0.766127</td>\n",
       "      <td>45</td>\n",
       "      <td>60644</td>\n",
       "      <td>2</td>\n",
       "      <td>0.802982</td>\n",
       "      <td>9120.0</td>\n",
       "      <td>13</td>\n",
       "      <td>0</td>\n",
       "      <td>6</td>\n",
       "      <td>0</td>\n",
       "      <td>2.0</td>\n",
       "    </tr>\n",
       "    <tr>\n",
       "      <th>1</th>\n",
       "      <td>2</td>\n",
       "      <td>0</td>\n",
       "      <td>0.957151</td>\n",
       "      <td>40</td>\n",
       "      <td>60637</td>\n",
       "      <td>0</td>\n",
       "      <td>0.121876</td>\n",
       "      <td>2600.0</td>\n",
       "      <td>4</td>\n",
       "      <td>0</td>\n",
       "      <td>0</td>\n",
       "      <td>0</td>\n",
       "      <td>1.0</td>\n",
       "    </tr>\n",
       "    <tr>\n",
       "      <th>2</th>\n",
       "      <td>3</td>\n",
       "      <td>0</td>\n",
       "      <td>0.658180</td>\n",
       "      <td>38</td>\n",
       "      <td>60601</td>\n",
       "      <td>1</td>\n",
       "      <td>0.085113</td>\n",
       "      <td>3042.0</td>\n",
       "      <td>2</td>\n",
       "      <td>1</td>\n",
       "      <td>0</td>\n",
       "      <td>0</td>\n",
       "      <td>0.0</td>\n",
       "    </tr>\n",
       "    <tr>\n",
       "      <th>3</th>\n",
       "      <td>4</td>\n",
       "      <td>0</td>\n",
       "      <td>0.233810</td>\n",
       "      <td>30</td>\n",
       "      <td>60601</td>\n",
       "      <td>0</td>\n",
       "      <td>0.036050</td>\n",
       "      <td>3300.0</td>\n",
       "      <td>5</td>\n",
       "      <td>0</td>\n",
       "      <td>0</td>\n",
       "      <td>0</td>\n",
       "      <td>0.0</td>\n",
       "    </tr>\n",
       "    <tr>\n",
       "      <th>4</th>\n",
       "      <td>5</td>\n",
       "      <td>0</td>\n",
       "      <td>0.907239</td>\n",
       "      <td>49</td>\n",
       "      <td>60625</td>\n",
       "      <td>1</td>\n",
       "      <td>0.024926</td>\n",
       "      <td>63588.0</td>\n",
       "      <td>7</td>\n",
       "      <td>0</td>\n",
       "      <td>1</td>\n",
       "      <td>0</td>\n",
       "      <td>0.0</td>\n",
       "    </tr>\n",
       "  </tbody>\n",
       "</table>\n",
       "</div>"
      ],
      "text/plain": [
       "   PersonID  SeriousDlqin2yrs  RevolvingUtilizationOfUnsecuredLines  age  \\\n",
       "0         1                 1                              0.766127   45   \n",
       "1         2                 0                              0.957151   40   \n",
       "2         3                 0                              0.658180   38   \n",
       "3         4                 0                              0.233810   30   \n",
       "4         5                 0                              0.907239   49   \n",
       "\n",
       "   zipcode  NumberOfTime30-59DaysPastDueNotWorse  DebtRatio  MonthlyIncome  \\\n",
       "0    60644                                     2   0.802982         9120.0   \n",
       "1    60637                                     0   0.121876         2600.0   \n",
       "2    60601                                     1   0.085113         3042.0   \n",
       "3    60601                                     0   0.036050         3300.0   \n",
       "4    60625                                     1   0.024926        63588.0   \n",
       "\n",
       "   NumberOfOpenCreditLinesAndLoans  NumberOfTimes90DaysLate  \\\n",
       "0                               13                        0   \n",
       "1                                4                        0   \n",
       "2                                2                        1   \n",
       "3                                5                        0   \n",
       "4                                7                        0   \n",
       "\n",
       "   NumberRealEstateLoansOrLines  NumberOfTime60-89DaysPastDueNotWorse  \\\n",
       "0                             6                                     0   \n",
       "1                             0                                     0   \n",
       "2                             0                                     0   \n",
       "3                             0                                     0   \n",
       "4                             1                                     0   \n",
       "\n",
       "   NumberOfDependents  \n",
       "0                 2.0  \n",
       "1                 1.0  \n",
       "2                 0.0  \n",
       "3                 0.0  \n",
       "4                 0.0  "
      ]
     },
     "execution_count": 2,
     "metadata": {},
     "output_type": "execute_result"
    }
   ],
   "source": [
    "df = read.read(\"credit-data.csv\")\n",
    "df.head()"
   ]
  },
  {
   "cell_type": "code",
   "execution_count": 3,
   "metadata": {
    "collapsed": false
   },
   "outputs": [],
   "source": [
    "d = explore.explore(df)\n",
    "summary = d[\"summary\"]\n",
    "fts = d[\"features\"]"
   ]
  },
  {
   "cell_type": "code",
   "execution_count": 4,
   "metadata": {
    "collapsed": false
   },
   "outputs": [
    {
     "data": {
      "text/plain": [
       "['RevolvingUtilizationOfUnsecuredLines',\n",
       " 'age',\n",
       " 'zipcode',\n",
       " 'NumberOfTime30-59DaysPastDueNotWorse',\n",
       " 'DebtRatio',\n",
       " 'MonthlyIncome',\n",
       " 'NumberOfOpenCreditLinesAndLoans',\n",
       " 'NumberOfTimes90DaysLate',\n",
       " 'NumberRealEstateLoansOrLines',\n",
       " 'NumberOfTime60-89DaysPastDueNotWorse',\n",
       " 'NumberOfDependents']"
      ]
     },
     "execution_count": 4,
     "metadata": {},
     "output_type": "execute_result"
    }
   ],
   "source": [
    "fts"
   ]
  },
  {
   "cell_type": "code",
   "execution_count": 5,
   "metadata": {
    "collapsed": false
   },
   "outputs": [
    {
     "data": {
      "text/html": [
       "<div>\n",
       "<table border=\"1\" class=\"dataframe\">\n",
       "  <thead>\n",
       "    <tr style=\"text-align: right;\">\n",
       "      <th></th>\n",
       "      <th>PersonID</th>\n",
       "      <th>SeriousDlqin2yrs</th>\n",
       "      <th>RevolvingUtilizationOfUnsecuredLines</th>\n",
       "      <th>age</th>\n",
       "      <th>zipcode</th>\n",
       "      <th>NumberOfTime30-59DaysPastDueNotWorse</th>\n",
       "      <th>DebtRatio</th>\n",
       "      <th>MonthlyIncome</th>\n",
       "      <th>NumberOfOpenCreditLinesAndLoans</th>\n",
       "      <th>NumberOfTimes90DaysLate</th>\n",
       "      <th>NumberRealEstateLoansOrLines</th>\n",
       "      <th>NumberOfTime60-89DaysPastDueNotWorse</th>\n",
       "      <th>NumberOfDependents</th>\n",
       "    </tr>\n",
       "  </thead>\n",
       "  <tbody>\n",
       "    <tr>\n",
       "      <th>count</th>\n",
       "      <td>150000.000000</td>\n",
       "      <td>150000.000000</td>\n",
       "      <td>150000.000000</td>\n",
       "      <td>150000.000000</td>\n",
       "      <td>150000.000000</td>\n",
       "      <td>150000.000000</td>\n",
       "      <td>150000.000000</td>\n",
       "      <td>1.202690e+05</td>\n",
       "      <td>150000.000000</td>\n",
       "      <td>150000.000000</td>\n",
       "      <td>150000.000000</td>\n",
       "      <td>150000.000000</td>\n",
       "      <td>146076.000000</td>\n",
       "    </tr>\n",
       "    <tr>\n",
       "      <th>mean</th>\n",
       "      <td>75000.500000</td>\n",
       "      <td>0.066840</td>\n",
       "      <td>6.048438</td>\n",
       "      <td>52.295207</td>\n",
       "      <td>60648.810013</td>\n",
       "      <td>0.421033</td>\n",
       "      <td>353.005076</td>\n",
       "      <td>6.670221e+03</td>\n",
       "      <td>8.452760</td>\n",
       "      <td>0.265973</td>\n",
       "      <td>1.018240</td>\n",
       "      <td>0.240387</td>\n",
       "      <td>0.757222</td>\n",
       "    </tr>\n",
       "    <tr>\n",
       "      <th>std</th>\n",
       "      <td>43301.414527</td>\n",
       "      <td>0.249746</td>\n",
       "      <td>249.755371</td>\n",
       "      <td>14.771866</td>\n",
       "      <td>56.748197</td>\n",
       "      <td>4.192781</td>\n",
       "      <td>2037.818523</td>\n",
       "      <td>1.438467e+04</td>\n",
       "      <td>5.145951</td>\n",
       "      <td>4.169304</td>\n",
       "      <td>1.129771</td>\n",
       "      <td>4.155179</td>\n",
       "      <td>1.115086</td>\n",
       "    </tr>\n",
       "    <tr>\n",
       "      <th>min</th>\n",
       "      <td>1.000000</td>\n",
       "      <td>0.000000</td>\n",
       "      <td>0.000000</td>\n",
       "      <td>0.000000</td>\n",
       "      <td>60601.000000</td>\n",
       "      <td>0.000000</td>\n",
       "      <td>0.000000</td>\n",
       "      <td>0.000000e+00</td>\n",
       "      <td>0.000000</td>\n",
       "      <td>0.000000</td>\n",
       "      <td>0.000000</td>\n",
       "      <td>0.000000</td>\n",
       "      <td>0.000000</td>\n",
       "    </tr>\n",
       "    <tr>\n",
       "      <th>25%</th>\n",
       "      <td>37500.750000</td>\n",
       "      <td>0.000000</td>\n",
       "      <td>0.029867</td>\n",
       "      <td>41.000000</td>\n",
       "      <td>60625.000000</td>\n",
       "      <td>0.000000</td>\n",
       "      <td>0.175074</td>\n",
       "      <td>3.400000e+03</td>\n",
       "      <td>5.000000</td>\n",
       "      <td>0.000000</td>\n",
       "      <td>0.000000</td>\n",
       "      <td>0.000000</td>\n",
       "      <td>0.000000</td>\n",
       "    </tr>\n",
       "    <tr>\n",
       "      <th>50%</th>\n",
       "      <td>75000.500000</td>\n",
       "      <td>0.000000</td>\n",
       "      <td>0.154181</td>\n",
       "      <td>52.000000</td>\n",
       "      <td>60629.000000</td>\n",
       "      <td>0.000000</td>\n",
       "      <td>0.366508</td>\n",
       "      <td>5.400000e+03</td>\n",
       "      <td>8.000000</td>\n",
       "      <td>0.000000</td>\n",
       "      <td>1.000000</td>\n",
       "      <td>0.000000</td>\n",
       "      <td>0.000000</td>\n",
       "    </tr>\n",
       "    <tr>\n",
       "      <th>75%</th>\n",
       "      <td>112500.250000</td>\n",
       "      <td>0.000000</td>\n",
       "      <td>0.559046</td>\n",
       "      <td>63.000000</td>\n",
       "      <td>60644.000000</td>\n",
       "      <td>0.000000</td>\n",
       "      <td>0.868254</td>\n",
       "      <td>8.249000e+03</td>\n",
       "      <td>11.000000</td>\n",
       "      <td>0.000000</td>\n",
       "      <td>2.000000</td>\n",
       "      <td>0.000000</td>\n",
       "      <td>1.000000</td>\n",
       "    </tr>\n",
       "    <tr>\n",
       "      <th>max</th>\n",
       "      <td>150000.000000</td>\n",
       "      <td>1.000000</td>\n",
       "      <td>50708.000000</td>\n",
       "      <td>109.000000</td>\n",
       "      <td>60804.000000</td>\n",
       "      <td>98.000000</td>\n",
       "      <td>329664.000000</td>\n",
       "      <td>3.008750e+06</td>\n",
       "      <td>58.000000</td>\n",
       "      <td>98.000000</td>\n",
       "      <td>54.000000</td>\n",
       "      <td>98.000000</td>\n",
       "      <td>20.000000</td>\n",
       "    </tr>\n",
       "  </tbody>\n",
       "</table>\n",
       "</div>"
      ],
      "text/plain": [
       "            PersonID  SeriousDlqin2yrs  RevolvingUtilizationOfUnsecuredLines  \\\n",
       "count  150000.000000     150000.000000                         150000.000000   \n",
       "mean    75000.500000          0.066840                              6.048438   \n",
       "std     43301.414527          0.249746                            249.755371   \n",
       "min         1.000000          0.000000                              0.000000   \n",
       "25%     37500.750000          0.000000                              0.029867   \n",
       "50%     75000.500000          0.000000                              0.154181   \n",
       "75%    112500.250000          0.000000                              0.559046   \n",
       "max    150000.000000          1.000000                          50708.000000   \n",
       "\n",
       "                 age        zipcode  NumberOfTime30-59DaysPastDueNotWorse  \\\n",
       "count  150000.000000  150000.000000                         150000.000000   \n",
       "mean       52.295207   60648.810013                              0.421033   \n",
       "std        14.771866      56.748197                              4.192781   \n",
       "min         0.000000   60601.000000                              0.000000   \n",
       "25%        41.000000   60625.000000                              0.000000   \n",
       "50%        52.000000   60629.000000                              0.000000   \n",
       "75%        63.000000   60644.000000                              0.000000   \n",
       "max       109.000000   60804.000000                             98.000000   \n",
       "\n",
       "           DebtRatio  MonthlyIncome  NumberOfOpenCreditLinesAndLoans  \\\n",
       "count  150000.000000   1.202690e+05                    150000.000000   \n",
       "mean      353.005076   6.670221e+03                         8.452760   \n",
       "std      2037.818523   1.438467e+04                         5.145951   \n",
       "min         0.000000   0.000000e+00                         0.000000   \n",
       "25%         0.175074   3.400000e+03                         5.000000   \n",
       "50%         0.366508   5.400000e+03                         8.000000   \n",
       "75%         0.868254   8.249000e+03                        11.000000   \n",
       "max    329664.000000   3.008750e+06                        58.000000   \n",
       "\n",
       "       NumberOfTimes90DaysLate  NumberRealEstateLoansOrLines  \\\n",
       "count            150000.000000                 150000.000000   \n",
       "mean                  0.265973                      1.018240   \n",
       "std                   4.169304                      1.129771   \n",
       "min                   0.000000                      0.000000   \n",
       "25%                   0.000000                      0.000000   \n",
       "50%                   0.000000                      1.000000   \n",
       "75%                   0.000000                      2.000000   \n",
       "max                  98.000000                     54.000000   \n",
       "\n",
       "       NumberOfTime60-89DaysPastDueNotWorse  NumberOfDependents  \n",
       "count                         150000.000000       146076.000000  \n",
       "mean                               0.240387            0.757222  \n",
       "std                                4.155179            1.115086  \n",
       "min                                0.000000            0.000000  \n",
       "25%                                0.000000            0.000000  \n",
       "50%                                0.000000            0.000000  \n",
       "75%                                0.000000            1.000000  \n",
       "max                               98.000000           20.000000  "
      ]
     },
     "execution_count": 5,
     "metadata": {},
     "output_type": "execute_result"
    }
   ],
   "source": [
    "# Summary statistics for the whole dataset\n",
    "summary"
   ]
  },
  {
   "cell_type": "code",
   "execution_count": 6,
   "metadata": {
    "collapsed": false
   },
   "outputs": [
    {
     "name": "stdout",
     "output_type": "stream",
     "text": [
      "Check the current folder for default histograms of these features.\n"
     ]
    }
   ],
   "source": [
    "explore.plots(df)"
   ]
  },
  {
   "cell_type": "code",
   "execution_count": 7,
   "metadata": {
    "collapsed": false
   },
   "outputs": [
    {
     "data": {
      "image/png": "[encoded data removed]",
      "text/plain": [
       "<matplotlib.figure.Figure at 0x119d580d0>"
      ]
     },
     "metadata": {},
     "output_type": "display_data"
    }
   ],
   "source": [
    "age_graph = explore.explore_var(df,'age','line')[\"graph\"]"
   ]
  },
  {
   "cell_type": "code",
   "execution_count": 8,
   "metadata": {
    "collapsed": false
   },
   "outputs": [
    {
     "data": {
      "image/png": "[encoded data removed]",
      "text/plain": [
       "<matplotlib.figure.Figure at 0x115176550>"
      ]
     },
     "metadata": {},
     "output_type": "display_data"
    }
   ],
   "source": [
    "loan_graph = explore.explore_var(df,'NumberOfOpenCreditLinesAndLoans','line')[\"graph\"]"
   ]
  },
  {
   "cell_type": "code",
   "execution_count": 9,
   "metadata": {
    "collapsed": false
   },
   "outputs": [
    {
     "data": {
      "image/png": "[encoded data removed]",
      "text/plain": [
       "<matplotlib.figure.Figure at 0x115884a50>"
      ]
     },
     "metadata": {},
     "output_type": "display_data"
    }
   ],
   "source": [
    "dependent_graph = explore.explore_var(df,'NumberOfDependents','line')[\"graph\"]"
   ]
  },
  {
   "cell_type": "code",
   "execution_count": 10,
   "metadata": {
    "collapsed": false
   },
   "outputs": [
    {
     "data": {
      "text/html": [
       "<div>\n",
       "<table border=\"1\" class=\"dataframe\">\n",
       "  <thead>\n",
       "    <tr style=\"text-align: right;\">\n",
       "      <th>value</th>\n",
       "      <th>False</th>\n",
       "      <th>True</th>\n",
       "    </tr>\n",
       "    <tr>\n",
       "      <th>variable</th>\n",
       "      <th></th>\n",
       "      <th></th>\n",
       "    </tr>\n",
       "  </thead>\n",
       "  <tbody>\n",
       "    <tr>\n",
       "      <th>DebtRatio</th>\n",
       "      <td>150000</td>\n",
       "      <td>0</td>\n",
       "    </tr>\n",
       "    <tr>\n",
       "      <th>MonthlyIncome</th>\n",
       "      <td>120269</td>\n",
       "      <td>29731</td>\n",
       "    </tr>\n",
       "    <tr>\n",
       "      <th>NumberOfDependents</th>\n",
       "      <td>146076</td>\n",
       "      <td>3924</td>\n",
       "    </tr>\n",
       "    <tr>\n",
       "      <th>NumberOfOpenCreditLinesAndLoans</th>\n",
       "      <td>150000</td>\n",
       "      <td>0</td>\n",
       "    </tr>\n",
       "    <tr>\n",
       "      <th>NumberOfTime30-59DaysPastDueNotWorse</th>\n",
       "      <td>150000</td>\n",
       "      <td>0</td>\n",
       "    </tr>\n",
       "    <tr>\n",
       "      <th>NumberOfTime60-89DaysPastDueNotWorse</th>\n",
       "      <td>150000</td>\n",
       "      <td>0</td>\n",
       "    </tr>\n",
       "    <tr>\n",
       "      <th>NumberOfTimes90DaysLate</th>\n",
       "      <td>150000</td>\n",
       "      <td>0</td>\n",
       "    </tr>\n",
       "    <tr>\n",
       "      <th>NumberRealEstateLoansOrLines</th>\n",
       "      <td>150000</td>\n",
       "      <td>0</td>\n",
       "    </tr>\n",
       "    <tr>\n",
       "      <th>PersonID</th>\n",
       "      <td>150000</td>\n",
       "      <td>0</td>\n",
       "    </tr>\n",
       "    <tr>\n",
       "      <th>RevolvingUtilizationOfUnsecuredLines</th>\n",
       "      <td>150000</td>\n",
       "      <td>0</td>\n",
       "    </tr>\n",
       "    <tr>\n",
       "      <th>SeriousDlqin2yrs</th>\n",
       "      <td>150000</td>\n",
       "      <td>0</td>\n",
       "    </tr>\n",
       "    <tr>\n",
       "      <th>age</th>\n",
       "      <td>150000</td>\n",
       "      <td>0</td>\n",
       "    </tr>\n",
       "    <tr>\n",
       "      <th>zipcode</th>\n",
       "      <td>150000</td>\n",
       "      <td>0</td>\n",
       "    </tr>\n",
       "  </tbody>\n",
       "</table>\n",
       "</div>"
      ],
      "text/plain": [
       "value                                  False  True \n",
       "variable                                           \n",
       "DebtRatio                             150000      0\n",
       "MonthlyIncome                         120269  29731\n",
       "NumberOfDependents                    146076   3924\n",
       "NumberOfOpenCreditLinesAndLoans       150000      0\n",
       "NumberOfTime30-59DaysPastDueNotWorse  150000      0\n",
       "NumberOfTime60-89DaysPastDueNotWorse  150000      0\n",
       "NumberOfTimes90DaysLate               150000      0\n",
       "NumberRealEstateLoansOrLines          150000      0\n",
       "PersonID                              150000      0\n",
       "RevolvingUtilizationOfUnsecuredLines  150000      0\n",
       "SeriousDlqin2yrs                      150000      0\n",
       "age                                   150000      0\n",
       "zipcode                               150000      0"
      ]
     },
     "execution_count": 10,
     "metadata": {},
     "output_type": "execute_result"
    }
   ],
   "source": [
    "#check the null value\n",
    "clean.check_missing_data(df)"
   ]
  },
  {
   "cell_type": "code",
   "execution_count": 11,
   "metadata": {
    "collapsed": false
   },
   "outputs": [
    {
     "data": {
      "text/html": [
       "<div>\n",
       "<table border=\"1\" class=\"dataframe\">\n",
       "  <thead>\n",
       "    <tr style=\"text-align: right;\">\n",
       "      <th>value</th>\n",
       "      <th>False</th>\n",
       "    </tr>\n",
       "    <tr>\n",
       "      <th>variable</th>\n",
       "      <th></th>\n",
       "    </tr>\n",
       "  </thead>\n",
       "  <tbody>\n",
       "    <tr>\n",
       "      <th>DebtRatio</th>\n",
       "      <td>150000</td>\n",
       "    </tr>\n",
       "    <tr>\n",
       "      <th>MonthlyIncome</th>\n",
       "      <td>150000</td>\n",
       "    </tr>\n",
       "    <tr>\n",
       "      <th>NumberOfDependents</th>\n",
       "      <td>150000</td>\n",
       "    </tr>\n",
       "    <tr>\n",
       "      <th>NumberOfOpenCreditLinesAndLoans</th>\n",
       "      <td>150000</td>\n",
       "    </tr>\n",
       "    <tr>\n",
       "      <th>NumberOfTime30-59DaysPastDueNotWorse</th>\n",
       "      <td>150000</td>\n",
       "    </tr>\n",
       "    <tr>\n",
       "      <th>NumberOfTime60-89DaysPastDueNotWorse</th>\n",
       "      <td>150000</td>\n",
       "    </tr>\n",
       "    <tr>\n",
       "      <th>NumberOfTimes90DaysLate</th>\n",
       "      <td>150000</td>\n",
       "    </tr>\n",
       "    <tr>\n",
       "      <th>NumberRealEstateLoansOrLines</th>\n",
       "      <td>150000</td>\n",
       "    </tr>\n",
       "    <tr>\n",
       "      <th>PersonID</th>\n",
       "      <td>150000</td>\n",
       "    </tr>\n",
       "    <tr>\n",
       "      <th>RevolvingUtilizationOfUnsecuredLines</th>\n",
       "      <td>150000</td>\n",
       "    </tr>\n",
       "    <tr>\n",
       "      <th>SeriousDlqin2yrs</th>\n",
       "      <td>150000</td>\n",
       "    </tr>\n",
       "    <tr>\n",
       "      <th>age</th>\n",
       "      <td>150000</td>\n",
       "    </tr>\n",
       "    <tr>\n",
       "      <th>zipcode</th>\n",
       "      <td>150000</td>\n",
       "    </tr>\n",
       "  </tbody>\n",
       "</table>\n",
       "</div>"
      ],
      "text/plain": [
       "value                                  False\n",
       "variable                                    \n",
       "DebtRatio                             150000\n",
       "MonthlyIncome                         150000\n",
       "NumberOfDependents                    150000\n",
       "NumberOfOpenCreditLinesAndLoans       150000\n",
       "NumberOfTime30-59DaysPastDueNotWorse  150000\n",
       "NumberOfTime60-89DaysPastDueNotWorse  150000\n",
       "NumberOfTimes90DaysLate               150000\n",
       "NumberRealEstateLoansOrLines          150000\n",
       "PersonID                              150000\n",
       "RevolvingUtilizationOfUnsecuredLines  150000\n",
       "SeriousDlqin2yrs                      150000\n",
       "age                                   150000\n",
       "zipcode                               150000"
      ]
     },
     "execution_count": 11,
     "metadata": {},
     "output_type": "execute_result"
    }
   ],
   "source": [
    "#Check null values again after filling in missing values\n",
    "df = clean.clean(df,'NumberOfDependents','zero')\n",
    "df = clean.clean(df,'MonthlyIncome','mean')\n",
    "clean.check_missing_data(df)"
   ]
  },
  {
   "cell_type": "markdown",
   "metadata": {
    "collapsed": false
   },
   "source": [
    "Generate categorical bin boundary for selected variables"
   ]
  },
  {
   "cell_type": "code",
   "execution_count": 12,
   "metadata": {
    "collapsed": false
   },
   "outputs": [],
   "source": [
    "features.binning(df, 'MonthlyIncome', 'quantiles', [0, 0.25, 0.5, 0.75, 1])\n",
    "fts.append(df.keys()[-1])"
   ]
  },
  {
   "cell_type": "code",
   "execution_count": 13,
   "metadata": {
    "collapsed": false
   },
   "outputs": [
    {
     "data": {
      "text/html": [
       "<div>\n",
       "<table border=\"1\" class=\"dataframe\">\n",
       "  <thead>\n",
       "    <tr style=\"text-align: right;\">\n",
       "      <th></th>\n",
       "      <th>PersonID</th>\n",
       "      <th>SeriousDlqin2yrs</th>\n",
       "      <th>RevolvingUtilizationOfUnsecuredLines</th>\n",
       "      <th>age</th>\n",
       "      <th>zipcode</th>\n",
       "      <th>NumberOfTime30-59DaysPastDueNotWorse</th>\n",
       "      <th>DebtRatio</th>\n",
       "      <th>MonthlyIncome</th>\n",
       "      <th>NumberOfOpenCreditLinesAndLoans</th>\n",
       "      <th>NumberOfTimes90DaysLate</th>\n",
       "      <th>NumberRealEstateLoansOrLines</th>\n",
       "      <th>NumberOfTime60-89DaysPastDueNotWorse</th>\n",
       "      <th>NumberOfDependents</th>\n",
       "      <th>bins_MonthlyIncome</th>\n",
       "    </tr>\n",
       "  </thead>\n",
       "  <tbody>\n",
       "    <tr>\n",
       "      <th>count</th>\n",
       "      <td>150000.000000</td>\n",
       "      <td>150000.000000</td>\n",
       "      <td>150000.000000</td>\n",
       "      <td>150000.000000</td>\n",
       "      <td>150000.000000</td>\n",
       "      <td>150000.000000</td>\n",
       "      <td>150000.000000</td>\n",
       "      <td>1.500000e+05</td>\n",
       "      <td>150000.000000</td>\n",
       "      <td>150000.000000</td>\n",
       "      <td>150000.000000</td>\n",
       "      <td>150000.000000</td>\n",
       "      <td>150000.000000</td>\n",
       "      <td>150000.000000</td>\n",
       "    </tr>\n",
       "    <tr>\n",
       "      <th>mean</th>\n",
       "      <td>75000.500000</td>\n",
       "      <td>0.066840</td>\n",
       "      <td>6.048438</td>\n",
       "      <td>52.295207</td>\n",
       "      <td>60648.810013</td>\n",
       "      <td>0.421033</td>\n",
       "      <td>353.005076</td>\n",
       "      <td>6.670221e+03</td>\n",
       "      <td>8.452760</td>\n",
       "      <td>0.265973</td>\n",
       "      <td>1.018240</td>\n",
       "      <td>0.240387</td>\n",
       "      <td>0.737413</td>\n",
       "      <td>1.497340</td>\n",
       "    </tr>\n",
       "    <tr>\n",
       "      <th>std</th>\n",
       "      <td>43301.414527</td>\n",
       "      <td>0.249746</td>\n",
       "      <td>249.755371</td>\n",
       "      <td>14.771866</td>\n",
       "      <td>56.748197</td>\n",
       "      <td>4.192781</td>\n",
       "      <td>2037.818523</td>\n",
       "      <td>1.288045e+04</td>\n",
       "      <td>5.145951</td>\n",
       "      <td>4.169304</td>\n",
       "      <td>1.129771</td>\n",
       "      <td>4.155179</td>\n",
       "      <td>1.107021</td>\n",
       "      <td>1.117032</td>\n",
       "    </tr>\n",
       "    <tr>\n",
       "      <th>min</th>\n",
       "      <td>1.000000</td>\n",
       "      <td>0.000000</td>\n",
       "      <td>0.000000</td>\n",
       "      <td>0.000000</td>\n",
       "      <td>60601.000000</td>\n",
       "      <td>0.000000</td>\n",
       "      <td>0.000000</td>\n",
       "      <td>0.000000e+00</td>\n",
       "      <td>0.000000</td>\n",
       "      <td>0.000000</td>\n",
       "      <td>0.000000</td>\n",
       "      <td>0.000000</td>\n",
       "      <td>0.000000</td>\n",
       "      <td>0.000000</td>\n",
       "    </tr>\n",
       "    <tr>\n",
       "      <th>25%</th>\n",
       "      <td>37500.750000</td>\n",
       "      <td>0.000000</td>\n",
       "      <td>0.029867</td>\n",
       "      <td>41.000000</td>\n",
       "      <td>60625.000000</td>\n",
       "      <td>0.000000</td>\n",
       "      <td>0.175074</td>\n",
       "      <td>3.903000e+03</td>\n",
       "      <td>5.000000</td>\n",
       "      <td>0.000000</td>\n",
       "      <td>0.000000</td>\n",
       "      <td>0.000000</td>\n",
       "      <td>0.000000</td>\n",
       "      <td>0.000000</td>\n",
       "    </tr>\n",
       "    <tr>\n",
       "      <th>50%</th>\n",
       "      <td>75000.500000</td>\n",
       "      <td>0.000000</td>\n",
       "      <td>0.154181</td>\n",
       "      <td>52.000000</td>\n",
       "      <td>60629.000000</td>\n",
       "      <td>0.000000</td>\n",
       "      <td>0.366508</td>\n",
       "      <td>6.600000e+03</td>\n",
       "      <td>8.000000</td>\n",
       "      <td>0.000000</td>\n",
       "      <td>1.000000</td>\n",
       "      <td>0.000000</td>\n",
       "      <td>0.000000</td>\n",
       "      <td>1.000000</td>\n",
       "    </tr>\n",
       "    <tr>\n",
       "      <th>75%</th>\n",
       "      <td>112500.250000</td>\n",
       "      <td>0.000000</td>\n",
       "      <td>0.559046</td>\n",
       "      <td>63.000000</td>\n",
       "      <td>60644.000000</td>\n",
       "      <td>0.000000</td>\n",
       "      <td>0.868254</td>\n",
       "      <td>7.400000e+03</td>\n",
       "      <td>11.000000</td>\n",
       "      <td>0.000000</td>\n",
       "      <td>2.000000</td>\n",
       "      <td>0.000000</td>\n",
       "      <td>1.000000</td>\n",
       "      <td>2.000000</td>\n",
       "    </tr>\n",
       "    <tr>\n",
       "      <th>max</th>\n",
       "      <td>150000.000000</td>\n",
       "      <td>1.000000</td>\n",
       "      <td>50708.000000</td>\n",
       "      <td>109.000000</td>\n",
       "      <td>60804.000000</td>\n",
       "      <td>98.000000</td>\n",
       "      <td>329664.000000</td>\n",
       "      <td>3.008750e+06</td>\n",
       "      <td>58.000000</td>\n",
       "      <td>98.000000</td>\n",
       "      <td>54.000000</td>\n",
       "      <td>98.000000</td>\n",
       "      <td>20.000000</td>\n",
       "      <td>3.000000</td>\n",
       "    </tr>\n",
       "  </tbody>\n",
       "</table>\n",
       "</div>"
      ],
      "text/plain": [
       "            PersonID  SeriousDlqin2yrs  RevolvingUtilizationOfUnsecuredLines  \\\n",
       "count  150000.000000     150000.000000                         150000.000000   \n",
       "mean    75000.500000          0.066840                              6.048438   \n",
       "std     43301.414527          0.249746                            249.755371   \n",
       "min         1.000000          0.000000                              0.000000   \n",
       "25%     37500.750000          0.000000                              0.029867   \n",
       "50%     75000.500000          0.000000                              0.154181   \n",
       "75%    112500.250000          0.000000                              0.559046   \n",
       "max    150000.000000          1.000000                          50708.000000   \n",
       "\n",
       "                 age        zipcode  NumberOfTime30-59DaysPastDueNotWorse  \\\n",
       "count  150000.000000  150000.000000                         150000.000000   \n",
       "mean       52.295207   60648.810013                              0.421033   \n",
       "std        14.771866      56.748197                              4.192781   \n",
       "min         0.000000   60601.000000                              0.000000   \n",
       "25%        41.000000   60625.000000                              0.000000   \n",
       "50%        52.000000   60629.000000                              0.000000   \n",
       "75%        63.000000   60644.000000                              0.000000   \n",
       "max       109.000000   60804.000000                             98.000000   \n",
       "\n",
       "           DebtRatio  MonthlyIncome  NumberOfOpenCreditLinesAndLoans  \\\n",
       "count  150000.000000   1.500000e+05                    150000.000000   \n",
       "mean      353.005076   6.670221e+03                         8.452760   \n",
       "std      2037.818523   1.288045e+04                         5.145951   \n",
       "min         0.000000   0.000000e+00                         0.000000   \n",
       "25%         0.175074   3.903000e+03                         5.000000   \n",
       "50%         0.366508   6.600000e+03                         8.000000   \n",
       "75%         0.868254   7.400000e+03                        11.000000   \n",
       "max    329664.000000   3.008750e+06                        58.000000   \n",
       "\n",
       "       NumberOfTimes90DaysLate  NumberRealEstateLoansOrLines  \\\n",
       "count            150000.000000                 150000.000000   \n",
       "mean                  0.265973                      1.018240   \n",
       "std                   4.169304                      1.129771   \n",
       "min                   0.000000                      0.000000   \n",
       "25%                   0.000000                      0.000000   \n",
       "50%                   0.000000                      1.000000   \n",
       "75%                   0.000000                      2.000000   \n",
       "max                  98.000000                     54.000000   \n",
       "\n",
       "       NumberOfTime60-89DaysPastDueNotWorse  NumberOfDependents  \\\n",
       "count                         150000.000000       150000.000000   \n",
       "mean                               0.240387            0.737413   \n",
       "std                                4.155179            1.107021   \n",
       "min                                0.000000            0.000000   \n",
       "25%                                0.000000            0.000000   \n",
       "50%                                0.000000            0.000000   \n",
       "75%                                0.000000            1.000000   \n",
       "max                               98.000000           20.000000   \n",
       "\n",
       "       bins_MonthlyIncome  \n",
       "count       150000.000000  \n",
       "mean             1.497340  \n",
       "std              1.117032  \n",
       "min              0.000000  \n",
       "25%              0.000000  \n",
       "50%              1.000000  \n",
       "75%              2.000000  \n",
       "max              3.000000  "
      ]
     },
     "execution_count": 13,
     "metadata": {},
     "output_type": "execute_result"
    }
   ],
   "source": [
    "df.describe()"
   ]
  },
  {
   "cell_type": "code",
   "execution_count": 14,
   "metadata": {
    "collapsed": true
   },
   "outputs": [],
   "source": [
    "sel_fts = ['RevolvingUtilizationOfUnsecuredLines',\n",
    " 'NumberOfTime30-59DaysPastDueNotWorse',\n",
    " 'DebtRatio',\n",
    " 'NumberOfOpenCreditLinesAndLoans',\n",
    " 'NumberOfTimes90DaysLate',\n",
    " 'NumberRealEstateLoansOrLines',\n",
    " 'NumberOfTime60-89DaysPastDueNotWorse',\n",
    " 'NumberOfDependents']"
   ]
  },
  {
   "cell_type": "code",
   "execution_count": 18,
   "metadata": {
    "collapsed": false
   },
   "outputs": [],
   "source": [
    "grid_size = 'small'\n",
    "classifiers, grid = classify.define_clfs_params(grid_size)\n",
    "models=['RF','DT','KNN', 'ET', 'AB', 'GB', 'LR', 'NB']\n",
    "metrics = ['precision', 'recall', 'f1', 'auc']"
   ]
  },
  {
   "cell_type": "code",
   "execution_count": null,
   "metadata": {
    "collapsed": false
   },
   "outputs": [
    {
     "name": "stdout",
     "output_type": "stream",
     "text": [
      "RF\n",
      "0.77987408638\n",
      "0.681610822678\n",
      "0.636565923691\n",
      "3.84939813614\n",
      "3.82702112198\n",
      "3.62642598152\n",
      "0.670195102692\n",
      "0.650848150253\n",
      "0.697146177292\n",
      "3.74888801575\n",
      "3.52840399742\n",
      "3.76528215408\n",
      "0.737691879272\n",
      "0.756421804428\n",
      "0.764577150345\n",
      "4.45533490181\n",
      "4.43684697151\n",
      "4.76539683342\n",
      "0.7815721035\n",
      "0.657479047775\n",
      "0.760020017624\n",
      "4.58343315125\n",
      "4.67042303085\n",
      "4.5877931118\n",
      "1.16774201393\n",
      "1.2339618206\n",
      "1.15686583519\n",
      "9.2142701149\n",
      "9.21880722046\n",
      "9.33572483063\n",
      "1.1410779953\n",
      "1.10914492607\n",
      "1.13861918449\n",
      "8.88863492012\n",
      "8.98830986023\n",
      "9.09971690178\n",
      "1.48945498466\n",
      "1.43107509613\n",
      "1.48634696007\n",
      "11.9586238861\n",
      "11.7395951748\n",
      "14.3756320477\n",
      "1.44858407974\n",
      "1.51810002327\n",
      "1.47410917282\n",
      "11.8968520164\n",
      "11.5648560524\n",
      "11.4720160961\n",
      "Finished running RF\n",
      "DT\n",
      "0.0559160709381\n",
      "0.0445959568024\n",
      "0.0276739597321\n",
      "0.029816865921\n",
      "0.0526161193848\n",
      "0.0298202037811\n",
      "0.0434210300446\n",
      "0.0583999156952\n",
      "0.0441451072693\n",
      "0.0294120311737\n",
      "0.0608940124512\n",
      "0.0358870029449\n",
      "0.0477838516235\n",
      "0.0309660434723\n",
      "0.052925825119\n",
      "0.0343980789185\n",
      "0.0494899749756\n",
      "0.0491631031036\n",
      "0.115716934204\n",
      "0.0934739112854\n",
      "0.0525908470154\n",
      "0.115190982819\n",
      "0.110932826996\n",
      "0.128525972366\n",
      "0.0728049278259\n",
      "0.0809261798859\n",
      "0.117403030396\n",
      "0.142616033554\n",
      "0.0956900119781\n",
      "0.129364013672\n",
      "0.133423805237\n",
      "0.0986750125885\n",
      "0.144809961319\n",
      "0.12079501152\n",
      "0.140022993088\n",
      "0.161753892899\n",
      "0.17516207695\n",
      "0.242573976517\n",
      "0.158798933029\n",
      "0.183212995529\n",
      "0.131370067596\n",
      "0.180013179779\n",
      "0.135529994965\n",
      "0.183727025986\n",
      "0.143364906311\n",
      "0.232429027557\n",
      "0.197747945786\n",
      "0.221765995026\n",
      "0.204956054688\n",
      "0.255619049072\n",
      "0.249032020569\n",
      "0.201089143753\n",
      "0.265502929688\n",
      "0.221097946167\n",
      "0.247872829437\n",
      "0.264507055283\n",
      "0.233184099197\n",
      "0.289033889771\n",
      "0.267014026642\n",
      "0.236322879791\n",
      "0.28982591629\n",
      "0.284243822098\n",
      "0.276645183563\n",
      "0.378118991852\n",
      "0.380122184753\n",
      "0.301339864731\n",
      "0.329285860062\n",
      "0.356484889984\n",
      "0.34586596489\n",
      "0.339597940445\n",
      "0.350623130798\n",
      "0.388700008392\n",
      "0.26185798645\n",
      "0.257008075714\n",
      "0.304152011871\n",
      "0.337064981461\n",
      "0.276249170303\n",
      "0.27761387825\n",
      "0.294365882874\n",
      "0.273647069931\n",
      "0.281872987747\n",
      "0.403180122375\n",
      "0.352135181427\n",
      "0.347439050674\n",
      "0.347062110901\n",
      "0.37842297554\n",
      "0.393129110336\n",
      "0.37215590477\n",
      "0.392606973648\n",
      "0.407787799835\n",
      "0.259701013565\n",
      "0.263406038284\n",
      "0.258212089539\n",
      "0.278778791428\n",
      "0.317982196808\n",
      "0.286847114563\n",
      "0.279777050018\n",
      "0.288251161575\n",
      "0.326607942581\n",
      "0.351900815964\n",
      "0.40470290184\n",
      "0.39364695549\n",
      "0.386709928513\n",
      "0.380759000778\n",
      "0.346027851105\n",
      "0.449458837509\n",
      "0.414227962494\n",
      "0.361581087112\n",
      "0.0306749343872\n",
      "0.0510058403015\n",
      "0.0305831432343\n",
      "0.0281391143799\n",
      "0.0266859531403\n",
      "0.0253269672394\n",
      "0.0508060455322\n",
      "0.0497889518738\n",
      "0.0775539875031\n",
      "0.0619289875031\n",
      "0.0536890029907\n",
      "0.0309710502625\n",
      "0.0304369926453\n",
      "0.0292961597443\n",
      "0.0560500621796\n",
      "0.0586230754852\n",
      "0.026328086853\n",
      "0.0539910793304\n",
      "0.101186990738\n",
      "0.165647029877\n",
      "0.111650943756\n",
      "0.123845100403\n",
      "0.117557048798\n",
      "0.0757400989532\n",
      "0.108167886734\n",
      "0.110845088959\n",
      "0.159464836121\n",
      "0.158443927765\n",
      "0.149580001831\n",
      "0.15903711319\n",
      "0.135329008102\n",
      "0.17501282692\n",
      "0.102788925171\n",
      "0.260311126709\n",
      "0.136995077133\n",
      "0.180038928986\n",
      "0.249189853668\n",
      "0.19061088562\n",
      "0.216584920883\n",
      "0.16907787323\n",
      "0.197220087051\n",
      "0.150349140167\n",
      "0.284381866455\n",
      "0.248564958572\n",
      "0.173300027847\n",
      "0.28634095192\n",
      "0.283610105515\n",
      "0.291193962097\n",
      "0.263328790665\n",
      "0.25538611412\n",
      "0.287066936493\n",
      "0.24223279953\n",
      "0.271644115448\n",
      "0.185299158096\n",
      "0.368928909302\n",
      "0.307073831558\n",
      "0.376737117767\n",
      "0.278079032898\n",
      "0.379578828812\n",
      "0.324301958084\n",
      "0.292510986328\n",
      "0.324443101883\n",
      "0.356953859329\n",
      "0.482570886612\n",
      "0.463926076889\n",
      "0.491402864456\n",
      "0.4314930439\n",
      "0.417387008667\n",
      "0.484189033508\n",
      "0.506577968597\n",
      "0.419245004654\n",
      "0.42619395256\n",
      "0.387756824493\n",
      "0.35037112236\n",
      "0.379049062729\n",
      "0.395010948181\n",
      "0.393986940384\n",
      "0.385938882828\n",
      "0.356468915939\n",
      "0.376130104065\n",
      "0.423819065094\n",
      "0.616014957428\n",
      "0.528974056244\n",
      "0.541171073914\n",
      "0.540894031525\n",
      "0.514113903046\n",
      "0.479199886322\n",
      "0.54218506813\n",
      "0.479820013046\n",
      "0.462028026581\n",
      "0.405833005905\n",
      "0.409322023392\n",
      "0.355718851089\n",
      "0.332588911057\n",
      "0.33393406868\n",
      "0.391433000565\n",
      "0.333436965942\n",
      "0.375243186951\n",
      "0.379026174545\n",
      "0.476747989655\n",
      "0.554938793182\n",
      "0.432677030563\n",
      "0.52273607254\n",
      "0.499108076096\n",
      "0.56803894043\n",
      "0.521286964417\n",
      "0.452415943146\n",
      "0.489547967911\n",
      "Finished running DT\n",
      "KNN\n",
      "2.60035610199\n",
      "2.58893895149\n",
      "2.56145095825\n",
      "2.62929296494\n",
      "2.58951497078\n",
      "2.54318380356\n",
      "3.58091115952\n",
      "3.50334000587\n",
      "3.53527402878\n",
      "3.61324501038\n",
      "3.43911004066\n",
      "3.54372286797\n",
      "4.28407597542\n",
      "4.15875291824\n",
      "4.15501403809\n",
      "4.27397179604\n",
      "4.21349096298\n",
      "4.2680118084\n",
      "5.50398802757\n",
      "5.54069209099\n",
      "5.53554296494\n",
      "5.57573199272\n",
      "5.56607508659\n",
      "5.68794298172\n",
      "7.25972700119\n",
      "7.15775990486\n",
      "7.15257811546\n",
      "7.23052501678\n",
      "7.10643482208\n",
      "7.14473104477\n",
      "9.79857897758\n",
      "9.77017903328\n",
      "9.8542368412\n",
      "9.80182886124\n",
      "9.71421504021\n",
      "9.78666520119\n",
      "66.8505821228\n",
      "66.2338118553\n",
      "66.0369081497\n",
      "67.0126838684\n",
      "66.9932980537\n",
      "5973.84728479\n",
      "3663.53540587\n",
      "1672.85992599\n",
      "75.1034169197\n",
      "74.7129759789\n",
      "69.5395431519\n",
      "69.058811903\n",
      "70.6735358238\n",
      "81.0641670227\n",
      "84.502915144\n",
      "86.0005869865\n",
      "75.6175601482\n",
      "77.6810200214\n",
      "80.5878059864\n",
      "76.28678298\n",
      "73.7314331532\n",
      "74.3551740646\n",
      "73.9836890697\n",
      "73.4513700008\n",
      "77.8959970474\n",
      "76.1627831459\n",
      "76.3862080574\n",
      "77.5212209225\n",
      "93.1863560677\n",
      "218.714733124\n",
      "107.76432395\n",
      "89.5683889389\n",
      "87.0393691063\n",
      "92.6864750385\n"
     ]
    }
   ],
   "source": [
    "all_models = classify.classify(df[sel_fts], df[DEP_VAR], models, 3, 0.05, metrics,classifiers, grid)\n",
    "#the number printing below is the time cost for each model"
   ]
  },
  {
   "cell_type": "code",
   "execution_count": 24,
   "metadata": {
    "collapsed": false
   },
   "outputs": [
    {
     "name": "stdout",
     "output_type": "stream",
     "text": [
      "{u'KNN': {u\"{'n_neighbors': 50, 'weights': 'distance', 'algorithm': 'auto'}\": {u'f1': 0.2517392896374954, u'auc': 0.7022730575805082, u'time': 7.5727763175964355, u'precision': 0.15482490710505573, u'recall': 0.6730298580518846}, u\"{'n_neighbors': 10, 'weights': 'distance', 'algorithm': 'ball_tree'}\": {u'f1': 0.24103191789850298, u'auc': 0.6827429337806743, u'time': 74.49186325073242, u'precision': 0.1492189321520168, u'recall': 0.6265296133137542}, u\"{'n_neighbors': 100, 'weights': 'uniform', 'algorithm': 'ball_tree'}\": {u'f1': 0.23861753333859384, u'auc': 0.7069721925064595, u'time': 104.4858747323354, u'precision': 0.14223894637817497, u'recall': 0.7400881057268722}, u\"{'n_neighbors': 50, 'weights': 'uniform', 'algorithm': 'auto'}\": {u'f1': 0.24499531476275663, u'auc': 0.7042423341866996, u'time': 7.546476443608602, u'precision': 0.14830858085808582, u'recall': 0.7038668624571708}, u\"{'n_neighbors': 100, 'weights': 'distance', 'algorithm': 'kd_tree'}\": {u'f1': 0.2590635141400093, u'auc': 0.7105367184143764, u'time': 9.990153630574545, u'precision': 0.15980324868451154, u'recall': 0.6837983357807146}, u\"{'n_neighbors': 100, 'weights': 'distance', 'algorithm': 'auto'}\": {u'f1': 0.2590635141400093, u'auc': 0.7105367184143764, u'time': 10.198867638905844, u'precision': 0.15980324868451154, u'recall': 0.6837983357807146}, u\"{'n_neighbors': 1, 'weights': 'uniform', 'algorithm': 'kd_tree'}\": {u'f1': 0.23225806451612904, u'auc': 0.5854156296351272, u'time': 2.5706799825032554, u'precision': 0.24563318777292575, u'recall': 0.22026431718061676}, u\"{'n_neighbors': 5, 'weights': 'uniform', 'algorithm': 'auto'}\": {u'f1': 0.27117806865892813, u'auc': 0.680068462596508, u'time': 3.7925347487131753, u'precision': 0.18133773740710157, u'recall': 0.5374449339207048}, u\"{'n_neighbors': 5, 'weights': 'distance', 'algorithm': 'kd_tree'}\": {u'f1': 0.27192762000502635, u'auc': 0.6783703439680311, u'time': 3.6771457195281982, u'precision': 0.18292476754015216, u'recall': 0.5296133137542829}, u\"{'n_neighbors': 10, 'weights': 'distance', 'algorithm': 'auto'}\": {u'f1': 0.24103191789850298, u'auc': 0.6827429337806743, u'time': 4.406445662180583, u'precision': 0.1492189321520168, u'recall': 0.6265296133137542}, u\"{'n_neighbors': 1, 'weights': 'distance', 'algorithm': 'kd_tree'}\": {u'f1': 0.23225806451612904, u'auc': 0.5854156296351272, u'time': 2.612355868021647, u'precision': 0.24563318777292575, u'recall': 0.22026431718061676}, u\"{'n_neighbors': 1, 'weights': 'distance', 'algorithm': 'auto'}\": {u'f1': 0.23225806451612904, u'auc': 0.5854156296351272, u'time': 2.706515630086263, u'precision': 0.24563318777292575, u'recall': 0.22026431718061676}, u\"{'n_neighbors': 10, 'weights': 'uniform', 'algorithm': 'ball_tree'}\": {u'f1': 0.2346876365224989, u'auc': 0.6845512489103124, u'time': 70.93287269274394, u'precision': 0.14284194852159116, u'recall': 0.6573666177190406}, u\"{'n_neighbors': 25, 'weights': 'distance', 'algorithm': 'kd_tree'}\": {u'f1': 0.24515040764689341, u'auc': 0.6892021400391634, u'time': 5.548206965128581, u'precision': 0.15159944367176634, u'recall': 0.6402349486049926}, u\"{'n_neighbors': 1, 'weights': 'uniform', 'algorithm': 'auto'}\": {u'f1': 0.23225806451612904, u'auc': 0.5854156296351272, u'time': 2.701568682988485, u'precision': 0.24563318777292575, u'recall': 0.22026431718061676}, u\"{'n_neighbors': 5, 'weights': 'distance', 'algorithm': 'auto'}\": {u'f1': 0.27192762000502635, u'auc': 0.6783703439680311, u'time': 3.727449337641398, u'precision': 0.18292476754015216, u'recall': 0.5296133137542829}, u\"{'n_neighbors': 10, 'weights': 'uniform', 'algorithm': 'kd_tree'}\": {u'f1': 0.2346671326227503, u'auc': 0.6845333643018067, u'time': 4.568527301152547, u'precision': 0.14282675741784537, u'recall': 0.6573666177190406}, u\"{'n_neighbors': 50, 'weights': 'distance', 'algorithm': 'ball_tree'}\": {u'f1': 0.2517853872917048, u'auc': 0.70230882679752, u'time': 77.39839831988017, u'precision': 0.15485978150692645, u'recall': 0.6730298580518846}, u\"{'n_neighbors': 5, 'weights': 'distance', 'algorithm': 'ball_tree'}\": {u'f1': 0.2718251475945233, u'auc': 0.6783166901425132, u'time': 70.21878139177959, u'precision': 0.1828320378506252, u'recall': 0.5296133137542829}, u\"{'n_neighbors': 25, 'weights': 'distance', 'algorithm': 'ball_tree'}\": {u'f1': 0.24521934758155228, u'auc': 0.6892557938646812, u'time': 73.34169928232829, u'precision': 0.15165217391304348, u'recall': 0.6402349486049926}, u\"{'n_neighbors': 25, 'weights': 'uniform', 'algorithm': 'auto'}\": {u'f1': 0.25509609784507864, u'auc': 0.6973772970100874, u'time': 5.854416688283284, u'precision': 0.15909916454776607, u'recall': 0.6431718061674009}, u\"{'n_neighbors': 100, 'weights': 'uniform', 'algorithm': 'kd_tree'}\": {u'f1': 0.23863636363636365, u'auc': 0.7069900771149652, u'time': 9.927035252253214, u'precision': 0.14225232853513972, u'recall': 0.7400881057268722}, u\"{'n_neighbors': 100, 'weights': 'distance', 'algorithm': 'ball_tree'}\": {u'f1': 0.2589260873597329, u'auc': 0.7103098648926817, u'time': 79.9902552763621, u'precision': 0.1597254004576659, u'recall': 0.6833088595203133}, u\"{'n_neighbors': 50, 'weights': 'uniform', 'algorithm': 'ball_tree'}\": {u'f1': 0.24503706228167332, u'auc': 0.7042781034037114, u'time': 79.16816973686218, u'precision': 0.14833917887353001, u'recall': 0.7038668624571708}, u\"{'n_neighbors': 1, 'weights': 'distance', 'algorithm': 'ball_tree'}\": {u'f1': 0.23225806451612904, u'auc': 0.5854156296351272, u'time': 67.66007073720296, u'precision': 0.24563318777292575, u'recall': 0.22026431718061676}, u\"{'n_neighbors': 100, 'weights': 'uniform', 'algorithm': 'auto'}\": {u'f1': 0.23863636363636365, u'auc': 0.7069900771149652, u'time': 10.372872352600098, u'precision': 0.14225232853513972, u'recall': 0.7400881057268722}, u\"{'n_neighbors': 25, 'weights': 'distance', 'algorithm': 'auto'}\": {u'f1': 0.24515040764689341, u'auc': 0.6892021400391634, u'time': 5.840301990509033, u'precision': 0.15159944367176634, u'recall': 0.6402349486049926}, u\"{'n_neighbors': 10, 'weights': 'uniform', 'algorithm': 'auto'}\": {u'f1': 0.2346671326227503, u'auc': 0.6845333643018067, u'time': 4.363915761311849, u'precision': 0.14282675741784537, u'recall': 0.6573666177190406}, u\"{'n_neighbors': 25, 'weights': 'uniform', 'algorithm': 'ball_tree'}\": {u'f1': 0.2551456310679611, u'auc': 0.6974130662270993, u'time': 73.84714301427205, u'precision': 0.1591377013443139, u'recall': 0.6431718061674009}, u\"{'n_neighbors': 10, 'weights': 'distance', 'algorithm': 'kd_tree'}\": {u'f1': 0.24103191789850298, u'auc': 0.6827429337806743, u'time': 4.17935832341512, u'precision': 0.1492189321520168, u'recall': 0.6265296133137542}, u\"{'n_neighbors': 25, 'weights': 'uniform', 'algorithm': 'kd_tree'}\": {u'f1': 0.25509609784507864, u'auc': 0.6973772970100874, u'time': 5.550557295481364, u'precision': 0.15909916454776607, u'recall': 0.6431718061674009}, u\"{'n_neighbors': 50, 'weights': 'uniform', 'algorithm': 'kd_tree'}\": {u'f1': 0.24499531476275663, u'auc': 0.7042423341866996, u'time': 7.718896389007568, u'precision': 0.14830858085808582, u'recall': 0.7038668624571708}, u\"{'n_neighbors': 1, 'weights': 'uniform', 'algorithm': 'ball_tree'}\": {u'f1': 0.23225806451612904, u'auc': 0.5854156296351272, u'time': 69.12615140279134, u'precision': 0.24563318777292575, u'recall': 0.22026431718061676}, u\"{'n_neighbors': 5, 'weights': 'uniform', 'algorithm': 'ball_tree'}\": {u'f1': 0.27104418662058755, u'auc': 0.679996924162484, u'time': 69.54160261154175, u'precision': 0.1812180227760357, u'recall': 0.5374449339207048}, u\"{'n_neighbors': 50, 'weights': 'distance', 'algorithm': 'kd_tree'}\": {u'f1': 0.2517392896374954, u'auc': 0.7022730575805082, u'time': 7.259023904800415, u'precision': 0.15482490710505573, u'recall': 0.6730298580518846}, u\"{'n_neighbors': 5, 'weights': 'uniform', 'algorithm': 'kd_tree'}\": {u'f1': 0.27117806865892813, u'auc': 0.680068462596508, u'time': 3.7648576895395913, u'precision': 0.18133773740710157, u'recall': 0.5374449339207048}}, u'AB': {u\"{'n_estimators': 1000, 'algorithm': 'SAMME.R'}\": {u'f1': 0.12751615017320475, u'auc': 0.5, u'time': 96.11926698684692, u'precision': 0.0681, u'recall': 1.0}, u\"{'n_estimators': 10, 'algorithm': 'SAMME.R'}\": {u'f1': 0.12751615017320475, u'auc': 0.5, u'time': 0.9033379554748535, u'precision': 0.0681, u'recall': 1.0}, u\"{'n_estimators': 10, 'algorithm': 'SAMME'}\": {u'f1': 0.12751615017320475, u'auc': 0.5, u'time': 0.7563146750132242, u'precision': 0.0681, u'recall': 1.0}, u\"{'n_estimators': 1000, 'algorithm': 'SAMME'}\": {u'f1': 0.12751615017320475, u'auc': 0.5, u'time': 73.02629327774048, u'precision': 0.0681, u'recall': 1.0}, u\"{'n_estimators': 1, 'algorithm': 'SAMME'}\": {u'f1': 0.12751615017320475, u'auc': 0.5, u'time': 0.09494924545288086, u'precision': 0.0681, u'recall': 1.0}, u\"{'n_estimators': 100, 'algorithm': 'SAMME.R'}\": {u'f1': 0.12751615017320475, u'auc': 0.5, u'time': 9.604877948760986, u'precision': 0.0681, u'recall': 1.0}, u\"{'n_estimators': 100, 'algorithm': 'SAMME'}\": {u'f1': 0.12751615017320475, u'auc': 0.5, u'time': 7.259803295135498, u'precision': 0.0681, u'recall': 1.0}, u\"{'n_estimators': 10000, 'algorithm': 'SAMME'}\": {u'f1': 0.12751615017320475, u'auc': 0.5, u'time': 1061.0715546607971, u'precision': 0.0681, u'recall': 1.0}, u\"{'n_estimators': 10000, 'algorithm': 'SAMME.R'}\": {u'f1': 0.12751615017320475, u'auc': 0.5, u'time': 9261.133429050446, u'precision': 0.0681, u'recall': 1.0}, u\"{'n_estimators': 1, 'algorithm': 'SAMME.R'}\": {u'f1': 0.377013963480129, u'auc': 0.6542971356735855, u'time': 0.1180409590403239, u'precision': 0.4176085663295657, u'recall': 0.3436123348017621}}, u'NB': {u'{}': {u'f1': 0.0759493670886076, u'auc': 0.5184127953580067, u'time': 0.05847771962483724, u'precision': 0.35080645161290325, u'recall': 0.042584434654919234}}, u'RF': {u\"{'max_features': 'sqrt', 'min_samples_split': 2, 'n_estimators': 10, 'max_depth': 50}\": {u'f1': 0.2758915159690138, u'auc': 0.7258205651847934, u'time': 1.139067014058431, u'precision': 0.17200273739688463, u'recall': 0.6968510360580845}, u\"{'max_features': 'sqrt', 'min_samples_split': 10, 'n_estimators': 100, 'max_depth': 50}\": {u'f1': 0.28361798936429655, u'auc': 0.7538092684151634, u'time': 9.235442399978638, u'precision': 0.17336495831908938, u'recall': 0.7790830478055147}, u\"{'max_features': 'sqrt', 'min_samples_split': 10, 'n_estimators': 100, 'max_depth': 5}\": {u'f1': 0.27677761917674065, u'auc': 0.7602349815203757, u'time': 3.6727673212687173, u'precision': 0.16645646856962093, u'recall': 0.8210148474465656}, u\"{'max_features': 'sqrt', 'min_samples_split': 10, 'n_estimators': 10, 'max_depth': 5}\": {u'f1': 0.27739661682760586, u'auc': 0.7605703945281608, u'time': 0.6563910643259684, u'precision': 0.16692284257015996, u'recall': 0.820362212432697}, u\"{'max_features': 'log2', 'min_samples_split': 2, 'n_estimators': 100, 'max_depth': 5}\": {u'f1': 0.2734858577589823, u'auc': 0.7590718691811008, u'time': 4.70586093266805, u'precision': 0.16386232183940538, u'recall': 0.8262359275575134}, u\"{'max_features': 'log2', 'min_samples_split': 10, 'n_estimators': 10, 'max_depth': 5}\": {u'f1': 0.281013396168137, u'auc': 0.7612471645717164, u'time': 0.7239446640014648, u'precision': 0.16988078688756322, u'recall': 0.8128569097732093}, u\"{'max_features': 'sqrt', 'min_samples_split': 2, 'n_estimators': 100, 'max_depth': 5}\": {u'f1': 0.27639813680264136, u'auc': 0.7605901700203853, u'time': 3.796301285425822, u'precision': 0.16607877280003105, u'recall': 0.8232990699951053}, u\"{'max_features': 'log2', 'min_samples_split': 10, 'n_estimators': 100, 'max_depth': 5}\": {u'f1': 0.27351467362128024, u'auc': 0.7590897537896067, u'time': 4.643074035644531, u'precision': 0.1638857454712722, u'recall': 0.8262359275575134}, u\"{'max_features': 'sqrt', 'min_samples_split': 2, 'n_estimators': 10, 'max_depth': 5}\": {u'f1': 0.2821620705539802, u'auc': 0.7598251587366242, u'time': 0.6295233567555746, u'precision': 0.1711040431146702, u'recall': 0.8048621308533203}, u\"{'max_features': 'sqrt', 'min_samples_split': 10, 'n_estimators': 10, 'max_depth': 50}\": {u'f1': 0.2756690297060287, u'auc': 0.7386069397428409, u'time': 1.1076972484588623, u'precision': 0.1691549500514595, u'recall': 0.7444933920704845}, u\"{'max_features': 'log2', 'min_samples_split': 10, 'n_estimators': 10, 'max_depth': 50}\": {u'f1': 0.27421294269747837, u'auc': 0.7366553113846904, u'time': 1.3731056054433186, u'precision': 0.1682319830943355, u'recall': 0.7410670582476749}, u\"{'max_features': 'log2', 'min_samples_split': 2, 'n_estimators': 10, 'max_depth': 5}\": {u'f1': 0.27887189548820085, u'auc': 0.7619402960118934, u'time': 0.7699596087137858, u'precision': 0.16796894750697325, u'recall': 0.8215043237069669}, u\"{'max_features': 'log2', 'min_samples_split': 2, 'n_estimators': 10, 'max_depth': 50}\": {u'f1': 0.273818284644503, u'auc': 0.7265648380262878, u'time': 1.4333723386128743, u'precision': 0.16992303624765712, u'recall': 0.7046826562245064}, u\"{'max_features': 'sqrt', 'min_samples_split': 2, 'n_estimators': 100, 'max_depth': 50}\": {u'f1': 0.28216158829204213, u'auc': 0.7445298966311649, u'time': 9.36551300684611, u'precision': 0.1738008870334037, u'recall': 0.7493881546744984}, u\"{'max_features': 'log2', 'min_samples_split': 10, 'n_estimators': 100, 'max_depth': 50}\": {u'f1': 0.2849311955553357, u'auc': 0.7550539776393546, u'time': 11.664030949274698, u'precision': 0.17429087240618105, u'recall': 0.7802251590797846}, u\"{'max_features': 'log2', 'min_samples_split': 2, 'n_estimators': 100, 'max_depth': 50}\": {u'f1': 0.27852320505073075, u'auc': 0.7427053601703658, u'time': 11.837491989135742, u'precision': 0.1709133531157538, u'recall': 0.7519986947299723}}, u'LR': {u\"{'penalty': 'l1', 'C': 10}\": {u'f1': 0.13609575439175342, u'auc': 0.5362425244656279, u'time': 2.609398285547892, u'precision': 0.07515375696745423, u'recall': 0.7196932615434818}, u\"{'penalty': 'l1', 'C': 0.1}\": {u'f1': 0.13458332706193513, u'auc': 0.5318661441314559, u'time': 2.4833072821299234, u'precision': 0.07417732656480103, u'recall': 0.7249143416544297}, u\"{'penalty': 'l1', 'C': 0.001}\": {u'f1': 0.12819575043976492, u'auc': 0.5068422677851664, u'time': 0.9607075850168864, u'precision': 0.06909400755109146, u'recall': 0.886441507586882}, u\"{'penalty': 'l2', 'C': 0.001}\": {u'f1': 0.13003292474909756, u'auc': 0.5161238280919875, u'time': 0.8427086671193441, u'precision': 0.07075023741690409, u'recall': 0.8022515907978464}, u\"{'penalty': 'l2', 'C': 0.1}\": {u'f1': 0.13275202420144142, u'auc': 0.5263611513317835, u'time': 0.8796363671620687, u'precision': 0.07301198923415708, u'recall': 0.7302985805188449}, u\"{'penalty': 'l1', 'C': 1}\": {u'f1': 0.13621221474709164, u'auc': 0.5365729213791034, u'time': 2.5794593493143716, u'precision': 0.07521588803737285, u'recall': 0.7205090553108174}, u\"{'penalty': 'l1', 'C': 1e-05}\": {u'f1': 0.126974442410684, u'auc': 0.5007989246334194, u'time': 0.14975738525390625, u'precision': 0.06821078699151462, u'recall': 0.916789035731767}, u\"{'penalty': 'l2', 'C': 10}\": {u'f1': 0.134830434981058, u'auc': 0.5325981524910528, u'time': 0.912614663441976, u'precision': 0.07434813248766738, u'recall': 0.7229564366128244}, u\"{'penalty': 'l2', 'C': 1}\": {u'f1': 0.13481812788097303, u'auc': 0.5325623832740409, u'time': 0.8698202768961588, u'precision': 0.07434064827863902, u'recall': 0.7229564366128244}, u\"{'penalty': 'l2', 'C': 1e-05}\": {u'f1': 0.12812918407919827, u'auc': 0.5104176137499182, u'time': 0.674527645111084, u'precision': 0.06985489293930278, u'recall': 0.7728830151737641}}, u'GB': {u\"{'n_estimators': 10, 'subsample': 0.1, 'learning_rate': 0.1, 'max_depth': 50}\": {u'f1': 0.2637058187613969, u'auc': 0.6997508900766091, u'time': 54.95491695404053, u'precision': 0.16682358961419197, u'recall': 0.6291401533692282}, u\"{'n_estimators': 10, 'subsample': 0.1, 'learning_rate': 0.001, 'max_depth': 5}\": {u'f1': 0.12751615017320475, u'auc': 0.5, u'time': 1.2242276668548584, u'precision': 0.0681, u'recall': 1.0}, u\"{'n_estimators': 10, 'subsample': 0.5, 'learning_rate': 0.1, 'max_depth': 5}\": {u'f1': 0.26321399285138597, u'auc': 0.7546230399874109, u'time': 2.014291286468506, u'precision': 0.15597849023159913, u'recall': 0.8423886441507588}, u\"{'n_estimators': 100, 'subsample': 0.5, 'learning_rate': 0.5, 'max_depth': 50}\": {u'f1': 0.2711284739995089, u'auc': 0.6175322283183963, u'time': 516.4648343722025, u'precision': 0.24512504533661614, u'recall': 0.3033121226953826}, u\"{'n_estimators': 10, 'subsample': 0.1, 'learning_rate': 0.1, 'max_depth': 5}\": {u'f1': 0.27741731190183294, u'auc': 0.7610903087639782, u'time': 1.1976643403371174, u'precision': 0.1668652988752073, u'recall': 0.8223201174743026}, u\"{'n_estimators': 10, 'subsample': 1.0, 'learning_rate': 0.5, 'max_depth': 50}\": {u'f1': 0.29506954972749383, u'auc': 0.6352826541130195, u'time': 131.04148737589517, u'precision': 0.2595706997982387, u'recall': 0.3418175885136237}, u\"{'n_estimators': 10, 'subsample': 0.5, 'learning_rate': 0.5, 'max_depth': 50}\": {u'f1': 0.2529924571117068, u'auc': 0.6132838678152525, u'time': 189.18909446398416, u'precision': 0.2137723800457276, u'recall': 0.30983847283406757}, u\"{'n_estimators': 10, 'subsample': 1.0, 'learning_rate': 0.001, 'max_depth': 5}\": {u'f1': 0.12751615017320475, u'auc': 0.5, u'time': 2.237480640411377, u'precision': 0.0681, u'recall': 1.0}, u\"{'n_estimators': 10, 'subsample': 0.5, 'learning_rate': 0.1, 'max_depth': 50}\": {u'f1': 0.3108685008031888, u'auc': 0.7040495778505802, u'time': 177.2580107053121, u'precision': 0.2157991433001036, u'recall': 0.5557187143090226}, u\"{'n_estimators': 100, 'subsample': 1.0, 'learning_rate': 0.001, 'max_depth': 50}\": {u'f1': 0.12751615017320475, u'auc': 0.5, u'time': 1448.8144547144573, u'precision': 0.0681, u'recall': 1.0}, u\"{'n_estimators': 10, 'subsample': 0.5, 'learning_rate': 0.001, 'max_depth': 5}\": {u'f1': 0.12751615017320475, u'auc': 0.5, u'time': 1.9854083061218262, u'precision': 0.0681, u'recall': 1.0}, u\"{'n_estimators': 10, 'subsample': 0.1, 'learning_rate': 0.001, 'max_depth': 50}\": {u'f1': 0.12751615017320475, u'auc': 0.5, u'time': 144.58235804239908, u'precision': 0.0681, u'recall': 1.0}, u\"{'n_estimators': 100, 'subsample': 0.5, 'learning_rate': 0.001, 'max_depth': 5}\": {u'f1': 0.12751615017320475, u'auc': 0.5, u'time': 18.920009692509968, u'precision': 0.0681, u'recall': 1.0}, u\"{'n_estimators': 10, 'subsample': 0.5, 'learning_rate': 0.001, 'max_depth': 50}\": {u'f1': 0.12751615017320475, u'auc': 0.5, u'time': 129.98670291900635, u'precision': 0.0681, u'recall': 1.0}, u\"{'n_estimators': 10, 'subsample': 0.5, 'learning_rate': 0.5, 'max_depth': 5}\": {u'f1': 0.3006847902285262, u'auc': 0.7661458927790846, u'time': 2.356203317642212, u'precision': 0.1861407538965266, u'recall': 0.7825093816283243}, u\"{'n_estimators': 100, 'subsample': 0.1, 'learning_rate': 0.1, 'max_depth': 5}\": {u'f1': 0.30198699536589, u'auc': 0.7665283677816456, u'time': 9.973101298014322, u'precision': 0.18720274446862792, u'recall': 0.7808777940936532}, u\"{'n_estimators': 100, 'subsample': 1.0, 'learning_rate': 0.5, 'max_depth': 50}\": {u'f1': 0.29630781489533764, u'auc': 0.628588094110193, u'time': 251.2114543914795, u'precision': 0.27776363392700854, u'recall': 0.3175069342470223}, u\"{'n_estimators': 100, 'subsample': 0.1, 'learning_rate': 0.5, 'max_depth': 5}\": {u'f1': 0.2797108457530329, u'auc': 0.6981260957167789, u'time': 9.675358692804972, u'precision': 0.18375106209906059, u'recall': 0.5870451949747103}, u\"{'n_estimators': 10, 'subsample': 1.0, 'learning_rate': 0.001, 'max_depth': 50}\": {u'f1': 0.12751615017320475, u'auc': 0.5, u'time': 144.566995938619, u'precision': 0.0681, u'recall': 1.0}, u\"{'n_estimators': 100, 'subsample': 0.5, 'learning_rate': 0.1, 'max_depth': 5}\": {u'f1': 0.3041972460451288, u'auc': 0.7720776562832464, u'time': 17.94656006495158, u'precision': 0.1880882030574497, u'recall': 0.7949094468918257}, u\"{'n_estimators': 10, 'subsample': 0.1, 'learning_rate': 0.5, 'max_depth': 50}\": {u'f1': 0.19983888327212984, u'auc': 0.582836936963767, u'time': 49.10988434155782, u'precision': 0.1585974886255243, u'recall': 0.2706803720019579}, u\"{'n_estimators': 10, 'subsample': 1.0, 'learning_rate': 0.5, 'max_depth': 5}\": {u'f1': 0.3052518491844866, u'auc': 0.770702090902449, u'time': 2.672163407007853, u'precision': 0.18928557490444087, u'recall': 0.7880567792462067}, u\"{'n_estimators': 10, 'subsample': 0.1, 'learning_rate': 0.5, 'max_depth': 5}\": {u'f1': 0.3088714591284074, u'auc': 0.74998083291712, u'time': 1.2321750322977703, u'precision': 0.19737094612189407, u'recall': 0.7125142763909283}, u\"{'n_estimators': 100, 'subsample': 1.0, 'learning_rate': 0.1, 'max_depth': 50}\": {u'f1': 0.28692876013423696, u'auc': 0.6249709998840783, u'time': 1028.2654100259144, u'precision': 0.26432924232414884, u'recall': 0.3137542829172785}, u\"{'n_estimators': 10, 'subsample': 1.0, 'learning_rate': 0.1, 'max_depth': 50}\": {u'f1': 0.2958462615037308, u'auc': 0.6398031092816462, u'time': 133.8390644391378, u'precision': 0.25274840725271536, u'recall': 0.356665035079132}, u\"{'n_estimators': 10, 'subsample': 1.0, 'learning_rate': 0.1, 'max_depth': 5}\": {u'f1': 0.26134383758806157, u'auc': 0.7534677625598404, u'time': 2.2518046696980796, u'precision': 0.15459759813586665, u'recall': 0.8443465491923642}, u\"{'n_estimators': 100, 'subsample': 1.0, 'learning_rate': 0.001, 'max_depth': 5}\": {u'f1': 0.12751615017320475, u'auc': 0.5, u'time': 1219.6596083641052, u'precision': 0.0681, u'recall': 1.0}, u\"{'n_estimators': 100, 'subsample': 0.5, 'learning_rate': 0.001, 'max_depth': 50}\": {u'f1': 0.12751615017320475, u'auc': 0.5, u'time': 2769.3638480504355, u'precision': 0.0681, u'recall': 1.0}, u\"{'n_estimators': 100, 'subsample': 0.5, 'learning_rate': 0.1, 'max_depth': 50}\": {u'f1': 0.3547031504881209, u'auc': 0.6402384940119652, u'time': 2075.1238430341086, u'precision': 0.407964196263168, u'recall': 0.3137542829172785}, u\"{'n_estimators': 100, 'subsample': 0.5, 'learning_rate': 0.5, 'max_depth': 5}\": {u'f1': 0.30604296700675376, u'auc': 0.7630179071415369, u'time': 17.46011169751485, u'precision': 0.1915644730777292, u'recall': 0.7606461086637298}, u\"{'n_estimators': 100, 'subsample': 1.0, 'learning_rate': 0.1, 'max_depth': 5}\": {u'f1': 0.30173974466930503, u'auc': 0.7726844986455758, u'time': 20.889452298482258, u'precision': 0.18581362006062804, u'recall': 0.8022515907978464}, u\"{'n_estimators': 100, 'subsample': 1.0, 'learning_rate': 0.5, 'max_depth': 5}\": {u'f1': 0.3074623998483601, u'auc': 0.7672798102239066, u'time': 19.539043029149372, u'precision': 0.19195197636316422, u'recall': 0.7720672214064285}, u\"{'n_estimators': 100, 'subsample': 0.1, 'learning_rate': 0.001, 'max_depth': 5}\": {u'f1': 0.12751615017320475, u'auc': 0.5, u'time': 11.048442284266153, u'precision': 0.0681, u'recall': 1.0}, u\"{'n_estimators': 100, 'subsample': 0.1, 'learning_rate': 0.1, 'max_depth': 50}\": {u'f1': 0.26151629813345506, u'auc': 0.6212711269707232, u'time': 672.4066373507181, u'precision': 0.21675467157185357, u'recall': 0.3295806820035895}, u\"{'n_estimators': 100, 'subsample': 0.1, 'learning_rate': 0.001, 'max_depth': 50}\": {u'f1': 0.12751615017320475, u'auc': 0.5, u'time': 1027.5750679969788, u'precision': 0.0681, u'recall': 1.0}, u\"{'n_estimators': 100, 'subsample': 0.1, 'learning_rate': 0.5, 'max_depth': 50}\": {u'f1': 0.214254565858749, u'auc': 0.5936035325629697, u'time': 366.2326172192891, u'precision': 0.16911911486013595, u'recall': 0.29238048621308527}}, u'ET': {u\"{'max_features': 'sqrt', 'min_samples_split': 10, 'criterion': 'gini', 'max_depth': 5, 'n_estimators': 100}\": {u'f1': 0.12752410973440279, u'auc': 0.5000357692170119, u'time': 1.7090657552083333, u'precision': 0.06810454030268684, u'recall': 1.0}, u\"{'max_features': 'log2', 'min_samples_split': 2, 'criterion': 'gini', 'max_depth': 50, 'n_estimators': 10}\": {u'f1': 0.2896943410177128, u'auc': 0.7120080885702539, u'time': 0.8869589964548746, u'precision': 0.1892665544234923, u'recall': 0.6172295643661282}, u\"{'max_features': 'sqrt', 'min_samples_split': 2, 'criterion': 'gini', 'max_depth': 50, 'n_estimators': 100}\": {u'f1': 0.2907165677547033, u'auc': 0.7239071134187597, u'time': 6.530972719192505, u'precision': 0.18665179254661143, u'recall': 0.6570403002121065}, u\"{'max_features': 'log2', 'min_samples_split': 2, 'criterion': 'gini', 'max_depth': 5, 'n_estimators': 100}\": {u'f1': 0.1810030873699233, u'auc': 0.6381142612358456, u'time': 1.800981044769287, u'precision': 0.10198346676993512, u'recall': 0.8539729156469246}, u\"{'max_features': 'sqrt', 'min_samples_split': 10, 'criterion': 'entropy', 'max_depth': 5, 'n_estimators': 100}\": {u'f1': 0.12752543645214867, u'auc': 0.5000417307531805, u'time': 1.6778120199839275, u'precision': 0.06810529709548059, u'recall': 1.0}, u\"{'max_features': 'sqrt', 'min_samples_split': 10, 'criterion': 'gini', 'max_depth': 50, 'n_estimators': 10}\": {u'f1': 0.27622953727106553, u'auc': 0.7396078562786906, u'time': 0.7904669443766276, u'precision': 0.16946494531412326, u'recall': 0.7466144558655573}, u\"{'max_features': 'sqrt', 'min_samples_split': 2, 'criterion': 'gini', 'max_depth': 50, 'n_estimators': 10}\": {u'f1': 0.28751319763167205, u'auc': 0.7116064771241325, u'time': 0.8512179851531982, u'precision': 0.18715339779337356, u'recall': 0.6200032631750694}, u\"{'max_features': 'log2', 'min_samples_split': 10, 'criterion': 'gini', 'max_depth': 50, 'n_estimators': 10}\": {u'f1': 0.27553123419950243, u'auc': 0.7384437809893738, u'time': 0.8644793033599854, u'precision': 0.16906482570011158, u'recall': 0.7441670745635504}, u\"{'max_features': 'log2', 'min_samples_split': 2, 'criterion': 'entropy', 'max_depth': 50, 'n_estimators': 100}\": {u'f1': 0.2897394241217726, u'auc': 0.7230718680605771, u'time': 7.168942292531331, u'precision': 0.1859262845459161, u'recall': 0.6560613476913035}, u\"{'max_features': 'sqrt', 'min_samples_split': 2, 'criterion': 'entropy', 'max_depth': 5, 'n_estimators': 100}\": {u'f1': 0.12752410973440279, u'auc': 0.5000357692170119, u'time': 1.6307570934295654, u'precision': 0.06810454030268684, u'recall': 1.0}, u\"{'max_features': 'log2', 'min_samples_split': 10, 'criterion': 'entropy', 'max_depth': 5, 'n_estimators': 10}\": {u'f1': 0.18286482646119392, u'auc': 0.6228910102853394, u'time': 0.463530699412028, u'precision': 0.10381628551711057, u'recall': 0.85478870941426}, u\"{'max_features': 'log2', 'min_samples_split': 2, 'criterion': 'gini', 'max_depth': 5, 'n_estimators': 10}\": {u'f1': 0.20098885298807453, u'auc': 0.664312498928718, u'time': 0.46405839920043945, u'precision': 0.11634978952387164, u'recall': 0.7818567466144559}, u\"{'max_features': 'log2', 'min_samples_split': 10, 'criterion': 'gini', 'max_depth': 5, 'n_estimators': 100}\": {u'f1': 0.1896312486605284, u'auc': 0.6431627281747329, u'time': 1.7339143753051758, u'precision': 0.10810520542812922, u'recall': 0.849404470549845}, u\"{'max_features': 'log2', 'min_samples_split': 10, 'criterion': 'gini', 'max_depth': 5, 'n_estimators': 10}\": {u'f1': 0.18143513323948005, u'auc': 0.588411174625545, u'time': 0.4770187536875407, u'precision': 0.10533135602160433, u'recall': 0.8975363028226463}, u\"{'max_features': 'sqrt', 'min_samples_split': 2, 'criterion': 'entropy', 'max_depth': 50, 'n_estimators': 100}\": {u'f1': 0.29143654209261255, u'auc': 0.7242208775587837, u'time': 6.6303244431813555, u'precision': 0.18727308993996475, u'recall': 0.6567139827051721}, u\"{'max_features': 'log2', 'min_samples_split': 10, 'criterion': 'gini', 'max_depth': 50, 'n_estimators': 100}\": {u'f1': 0.2774509980982058, u'auc': 0.7411016981869105, u'time': 6.571563641230266, u'precision': 0.17026562796193143, u'recall': 0.748898678414097}, u\"{'max_features': 'sqrt', 'min_samples_split': 10, 'criterion': 'gini', 'max_depth': 5, 'n_estimators': 10}\": {u'f1': 0.1275320708691449, u'auc': 0.5000715384340237, u'time': 0.4693586031595866, u'precision': 0.06810908156409565, u'recall': 1.0}, u\"{'max_features': 'log2', 'min_samples_split': 2, 'criterion': 'entropy', 'max_depth': 5, 'n_estimators': 100}\": {u'f1': 0.19127632633014913, u'auc': 0.6339991905266866, u'time': 1.7547574838002522, u'precision': 0.10970036987541139, u'recall': 0.8391254690814162}, u\"{'max_features': 'log2', 'min_samples_split': 10, 'criterion': 'entropy', 'max_depth': 5, 'n_estimators': 100}\": {u'f1': 0.1943491413885424, u'auc': 0.6619778878307118, u'time': 1.769952694574992, u'precision': 0.1108159662462091, u'recall': 0.8224832762277696}, u\"{'max_features': 'sqrt', 'min_samples_split': 2, 'criterion': 'entropy', 'max_depth': 5, 'n_estimators': 10}\": {u'f1': 0.1275294175164643, u'auc': 0.5000596153616864, u'time': 0.4751046498616536, u'precision': 0.06810756802896267, u'recall': 1.0}, u\"{'max_features': 'sqrt', 'min_samples_split': 10, 'criterion': 'entropy', 'max_depth': 5, 'n_estimators': 10}\": {u'f1': 0.1471691801700637, u'auc': 0.5527650926617936, u'time': 0.46568934122721356, u'precision': 0.08035598803937638, u'recall': 0.9468102463697177}, u\"{'max_features': 'log2', 'min_samples_split': 10, 'criterion': 'entropy', 'max_depth': 50, 'n_estimators': 10}\": {u'f1': 0.27475916335673817, u'auc': 0.7372718620342606, u'time': 0.8790703614552816, u'precision': 0.16860080256777676, u'recall': 0.7418828520150106}, u\"{'max_features': 'sqrt', 'min_samples_split': 10, 'criterion': 'gini', 'max_depth': 50, 'n_estimators': 100}\": {u'f1': 0.2785369389249667, u'auc': 0.7428547137218683, u'time': 6.030557314554851, u'precision': 0.1708979344138927, u'recall': 0.7524881709903736}, u\"{'max_features': 'sqrt', 'min_samples_split': 10, 'criterion': 'entropy', 'max_depth': 50, 'n_estimators': 100}\": {u'f1': 0.2800006920264007, u'auc': 0.7448301882246934, u'time': 6.0715320110321045, u'precision': 0.1718238412373433, u'recall': 0.7559145048131833}, u\"{'max_features': 'log2', 'min_samples_split': 2, 'criterion': 'entropy', 'max_depth': 5, 'n_estimators': 10}\": {u'f1': 0.2746590958275674, u'auc': 0.7031288662991314, u'time': 0.4651196797688802, u'precision': 0.1765868193608899, u'recall': 0.7337249143416544}, u\"{'max_features': 'sqrt', 'min_samples_split': 2, 'criterion': 'gini', 'max_depth': 5, 'n_estimators': 10}\": {u'f1': 0.13831551418907786, u'auc': 0.5357672298331168, u'time': 1.2675233681996663, u'precision': 0.07468654939912575, u'recall': 0.9629629629629629}, u\"{'max_features': 'log2', 'min_samples_split': 10, 'criterion': 'entropy', 'max_depth': 50, 'n_estimators': 100}\": {u'f1': 0.2786438864727225, u'auc': 0.7423486046880156, u'time': 6.602316061655681, u'precision': 0.17108840528988167, u'recall': 0.750367107195301}, u\"{'max_features': 'sqrt', 'min_samples_split': 2, 'criterion': 'gini', 'max_depth': 5, 'n_estimators': 100}\": {u'f1': 0.12752410973440279, u'auc': 0.5000357692170119, u'time': 1.6476227442423503, u'precision': 0.06810454030268684, u'recall': 1.0}, u\"{'max_features': 'sqrt', 'min_samples_split': 10, 'criterion': 'entropy', 'max_depth': 50, 'n_estimators': 10}\": {u'f1': 0.27594312228032275, u'auc': 0.7387358962616372, u'time': 0.7918454806009928, u'precision': 0.16937458166043862, u'recall': 0.7441670745635504}, u\"{'max_features': 'log2', 'min_samples_split': 2, 'criterion': 'entropy', 'max_depth': 50, 'n_estimators': 10}\": {u'f1': 0.2849208723649994, u'auc': 0.7084349223742334, u'time': 0.8851356506347656, u'precision': 0.1855208024024909, u'recall': 0.6138032305433186}, u\"{'max_features': 'log2', 'min_samples_split': 2, 'criterion': 'gini', 'max_depth': 50, 'n_estimators': 100}\": {u'f1': 0.2897314852239983, u'auc': 0.7233467290189074, u'time': 6.989877700805664, u'precision': 0.1858403658179646, u'recall': 0.6570403002121062}, u\"{'max_features': 'sqrt', 'min_samples_split': 2, 'criterion': 'entropy', 'max_depth': 50, 'n_estimators': 10}\": {u'f1': 0.2882993213579719, u'auc': 0.7111533916212247, u'time': 0.8519992828369141, u'precision': 0.1881053343496255, u'recall': 0.616903246859194}}, u'DT': {u\"{'max_features': 'sqrt', 'min_samples_split': 10, 'criterion': 'entropy', 'max_depth': 100}\": {u'f1': 0.291324670518751, u'auc': 0.6674266443479359, u'time': 0.43680866559346515, u'precision': 0.21356228390398554, u'recall': 0.4581497797356828}, u\"{'max_features': 'log2', 'min_samples_split': 10, 'criterion': 'gini', 'max_depth': 20}\": {u'f1': 0.27616165901173684, u'auc': 0.6880497602158101, u'time': 0.3683790365854899, u'precision': 0.1835736488012637, u'recall': 0.5571871430902268}, u\"{'max_features': 'sqrt', 'min_samples_split': 5, 'criterion': 'entropy', 'max_depth': 10}\": {u'f1': 0.28591369912420694, u'auc': 0.7515771064475265, u'time': 0.2093493938446045, u'precision': 0.17584789601460227, u'recall': 0.7658671887746777}, u\"{'max_features': 'sqrt', 'min_samples_split': 2, 'criterion': 'gini', 'max_depth': 1}\": {u'f1': 0.2676883040627107, u'auc': 0.6179259960987217, u'time': 0.04045565923055013, u'precision': 0.22980739629898816, u'recall': 0.634034915973242}, u\"{'max_features': 'log2', 'min_samples_split': 10, 'criterion': 'entropy', 'max_depth': 100}\": {u'f1': 0.29442978580257023, u'auc': 0.6654960170547907, u'time': 0.5309995810190836, u'precision': 0.21948284048192937, u'recall': 0.44721814325338555}, u\"{'max_features': 'sqrt', 'min_samples_split': 5, 'criterion': 'gini', 'max_depth': 10}\": {u'f1': 0.2867398213014974, u'auc': 0.7496973141625037, u'time': 0.17584737141927084, u'precision': 0.17688312752213106, u'recall': 0.7567302985805188}, u\"{'max_features': 'log2', 'min_samples_split': 5, 'criterion': 'gini', 'max_depth': 50}\": {u'f1': 0.286991062812641, u'auc': 0.6397375586460649, u'time': 0.42720532417297363, u'precision': 0.2361238296196774, u'recall': 0.36596508402675804}, u\"{'max_features': 'log2', 'min_samples_split': 2, 'criterion': 'entropy', 'max_depth': 100}\": {u'f1': 0.2698323087280134, u'auc': 0.6102383719799326, u'time': 0.5451862812042236, u'precision': 0.2629518446977301, u'recall': 0.27720672214064285}, u\"{'max_features': 'log2', 'min_samples_split': 5, 'criterion': 'entropy', 'max_depth': 20}\": {u'f1': 0.26069396400036654, u'auc': 0.6598665410769714, u'time': 0.47383642196655273, u'precision': 0.17876896919998628, u'recall': 0.48148148148148145}, u\"{'max_features': 'log2', 'min_samples_split': 10, 'criterion': 'gini', 'max_depth': 5}\": {u'f1': 0.27594868650899557, u'auc': 0.753680066781811, u'time': 0.11596838633219402, u'precision': 0.16702214898710158, u'recall': 0.8037200195790505}, u\"{'max_features': 'log2', 'min_samples_split': 2, 'criterion': 'entropy', 'max_depth': 10}\": {u'f1': 0.2784598145198424, u'auc': 0.7430919233335592, u'time': 0.28782494862874347, u'precision': 0.17079165296909174, u'recall': 0.7536302822646436}, u\"{'max_features': 'sqrt', 'min_samples_split': 2, 'criterion': 'entropy', 'max_depth': 5}\": {u'f1': 0.2865605812936362, u'auc': 0.7443203149315857, u'time': 0.11091033617655437, u'precision': 0.17941178015030548, u'recall': 0.7541197585250448}, u\"{'max_features': 'sqrt', 'min_samples_split': 2, 'criterion': 'entropy', 'max_depth': 1}\": {u'f1': 0.17985203662340635, u'auc': 0.5558070080737758, u'time': 0.038749376932779946, u'precision': 0.11353484427339462, u'recall': 0.8226464349812367}, u\"{'max_features': 'log2', 'min_samples_split': 2, 'criterion': 'entropy', 'max_depth': 1}\": {u'f1': 0.377013963480129, u'auc': 0.6542971356735855, u'time': 0.04863699277242025, u'precision': 0.4176085663295657, u'recall': 0.3436123348017621}, u\"{'max_features': 'sqrt', 'min_samples_split': 5, 'criterion': 'entropy', 'max_depth': 100}\": {u'f1': 0.28861807466138484, u'auc': 0.6381411012797414, u'time': 0.365170955657959, u'precision': 0.24150956113001146, u'recall': 0.3586229401207375}, u\"{'max_features': 'log2', 'min_samples_split': 10, 'criterion': 'gini', 'max_depth': 10}\": {u'f1': 0.28872113056504717, u'auc': 0.7520656285119772, u'time': 0.24122540156046549, u'precision': 0.17833238273584795, u'recall': 0.7622776961984011}, u\"{'max_features': 'log2', 'min_samples_split': 2, 'criterion': 'entropy', 'max_depth': 5}\": {u'f1': 0.23514460252585012, u'auc': 0.7220956293080744, u'time': 0.17387771606445312, u'precision': 0.13728034190997654, u'recall': 0.8373307227932779}, u\"{'max_features': 'sqrt', 'min_samples_split': 5, 'criterion': 'gini', 'max_depth': 100}\": {u'f1': 0.2911617016314975, u'auc': 0.6440446415935835, u'time': 0.3040792942047119, u'precision': 0.2373680753571178, u'recall': 0.3765704030021211}, u\"{'max_features': 'log2', 'min_samples_split': 2, 'criterion': 'gini', 'max_depth': 20}\": {u'f1': 0.24529238228452097, u'auc': 0.6420979155265557, u'time': 0.3471076488494873, u'precision': 0.1697703483031743, u'recall': 0.44248653940283894}, u\"{'max_features': 'sqrt', 'min_samples_split': 2, 'criterion': 'gini', 'max_depth': 100}\": {u'f1': 0.27438054507665827, u'auc': 0.6132373573282276, u'time': 0.28941766421000165, u'precision': 0.2654940458282669, u'recall': 0.28389623103279493}, u\"{'max_features': 'log2', 'min_samples_split': 5, 'criterion': 'entropy', 'max_depth': 100}\": {u'f1': 0.28688842116412133, u'auc': 0.6361267148411315, u'time': 0.502789576848348, u'precision': 0.2414540005614605, u'recall': 0.3534018600097895}, u\"{'max_features': 'log2', 'min_samples_split': 10, 'criterion': 'gini', 'max_depth': 100}\": {u'f1': 0.2927445009477784, u'auc': 0.6728008597778237, u'time': 0.38785696029663086, u'precision': 0.21158023923526792, u'recall': 0.4749551313427965}, u\"{'max_features': 'log2', 'min_samples_split': 5, 'criterion': 'entropy', 'max_depth': 10}\": {u'f1': 0.2878689715954538, u'auc': 0.7517233085261644, u'time': 0.30040701230367023, u'precision': 0.17751338305550793, u'recall': 0.7614619024310655}, u\"{'max_features': 'log2', 'min_samples_split': 2, 'criterion': 'gini', 'max_depth': 10}\": {u'f1': 0.2909467499907951, u'auc': 0.7495598574210646, u'time': 0.22081168492635092, u'precision': 0.180713275414336, u'recall': 0.7469407733724914}, u\"{'max_features': 'sqrt', 'min_samples_split': 10, 'criterion': 'gini', 'max_depth': 1}\": {u'f1': 0.324694520183242, u'auc': 0.6844196136395816, u'time': 0.049898386001586914, u'precision': 0.2750119371547877, u'recall': 0.4868657203458966}, u\"{'max_features': 'sqrt', 'min_samples_split': 2, 'criterion': 'entropy', 'max_depth': 20}\": {u'f1': 0.2434258537578561, u'auc': 0.6413135051764955, u'time': 0.31717705726623535, u'precision': 0.16778661136436, u'recall': 0.4433023331701746}, u\"{'max_features': 'sqrt', 'min_samples_split': 5, 'criterion': 'gini', 'max_depth': 1}\": {u'f1': 0.12751615017320475, u'auc': 0.5, u'time': 0.03742694854736328, u'precision': 0.0681, u'recall': 1.0}, u\"{'max_features': 'sqrt', 'min_samples_split': 10, 'criterion': 'entropy', 'max_depth': 50}\": {u'f1': 0.29337061690947114, u'auc': 0.6688448684155905, u'time': 0.3916306495666504, u'precision': 0.21530481812652558, u'recall': 0.4602708435307554}, u\"{'max_features': 'sqrt', 'min_samples_split': 5, 'criterion': 'gini', 'max_depth': 20}\": {u'f1': 0.26210276438615066, u'auc': 0.6626019669987916, u'time': 0.30163105328877765, u'precision': 0.1790517885052957, u'recall': 0.48931310164790337}, u\"{'max_features': 'sqrt', 'min_samples_split': 10, 'criterion': 'gini', 'max_depth': 20}\": {u'f1': 0.27028208190998343, u'auc': 0.6847109848140852, u'time': 0.25620460510253906, u'precision': 0.17851511941054057, u'recall': 0.5566976668298254}, u\"{'max_features': 'sqrt', 'min_samples_split': 2, 'criterion': 'gini', 'max_depth': 5}\": {u'f1': 0.28402753125093333, u'auc': 0.7446416075901193, u'time': 0.10720531145731609, u'precision': 0.17644910294030156, u'recall': 0.7531408060042422}, u\"{'max_features': 'sqrt', 'min_samples_split': 5, 'criterion': 'gini', 'max_depth': 5}\": {u'f1': 0.3068969603993342, u'auc': 0.73789010222345, u'time': 0.0944817066192627, u'precision': 0.19885370590687693, u'recall': 0.6743351280796214}, u\"{'max_features': 'sqrt', 'min_samples_split': 5, 'criterion': 'entropy', 'max_depth': 20}\": {u'f1': 0.26835868633450827, u'auc': 0.669243468454308, u'time': 0.3524477481842041, u'precision': 0.1831481277006001, u'recall': 0.5022026431718062}, u\"{'max_features': 'sqrt', 'min_samples_split': 2, 'criterion': 'gini', 'max_depth': 10}\": {u'f1': 0.2860832754752793, u'auc': 0.7499075436648382, u'time': 0.21977798144022623, u'precision': 0.176265114927301, u'recall': 0.7591776798825256}, u\"{'max_features': 'sqrt', 'min_samples_split': 2, 'criterion': 'entropy', 'max_depth': 100}\": {u'f1': 0.27108874261932275, u'auc': 0.6109885888494132, u'time': 0.38580767313639325, u'precision': 0.26378729447248567, u'recall': 0.27883830967531403}, u\"{'max_features': 'sqrt', 'min_samples_split': 5, 'criterion': 'entropy', 'max_depth': 1}\": {u'f1': 0.17686947536054423, u'auc': 0.5754482913248129, u'time': 0.053165276845296226, u'precision': 0.10259660582772974, u'recall': 0.8998205253711862}, u\"{'max_features': 'log2', 'min_samples_split': 2, 'criterion': 'gini', 'max_depth': 50}\": {u'f1': 0.27434060717617265, u'auc': 0.6129744194422345, u'time': 0.3687276840209961, u'precision': 0.26628200502959387, u'recall': 0.28291727851199217}, u\"{'max_features': 'sqrt', 'min_samples_split': 2, 'criterion': 'entropy', 'max_depth': 50}\": {u'f1': 0.2728953985884472, u'auc': 0.6115571320623479, u'time': 0.4321860472361247, u'precision': 0.2669189182512844, u'recall': 0.2791646271822483}, u\"{'max_features': 'log2', 'min_samples_split': 5, 'criterion': 'gini', 'max_depth': 100}\": {u'f1': 0.2868722253089669, u'auc': 0.6387956271773286, u'time': 0.4456109205881755, u'precision': 0.2372224070002218, u'recall': 0.36286506771088267}, u\"{'max_features': 'log2', 'min_samples_split': 5, 'criterion': 'entropy', 'max_depth': 5}\": {u'f1': 0.2904399999662977, u'auc': 0.7298399536761502, u'time': 0.15227874120076498, u'precision': 0.19214269342661097, u'recall': 0.717409038994942}, u\"{'max_features': 'log2', 'min_samples_split': 2, 'criterion': 'entropy', 'max_depth': 50}\": {u'f1': 0.2751304188347807, u'auc': 0.6133205036873021, u'time': 0.48429306348164874, u'precision': 0.2673415123725733, u'recall': 0.2834067547723935}, u\"{'max_features': 'log2', 'min_samples_split': 2, 'criterion': 'gini', 'max_depth': 1}\": {u'f1': 0.17985203662340632, u'auc': 0.5558070080737758, u'time': 0.04630597432454427, u'precision': 0.11353484427339461, u'recall': 0.8226464349812367}, u\"{'max_features': 'log2', 'min_samples_split': 10, 'criterion': 'entropy', 'max_depth': 20}\": {u'f1': 0.27711579195410824, u'auc': 0.6927832637041665, u'time': 0.43308297793070477, u'precision': 0.18278583167530038, u'recall': 0.5726872246696035}, u\"{'max_features': 'sqrt', 'min_samples_split': 5, 'criterion': 'gini', 'max_depth': 50}\": {u'f1': 0.29179866131487026, u'auc': 0.6438588885304964, u'time': 0.3111916383107503, u'precision': 0.23877498538483014, u'recall': 0.37510197422091696}, u\"{'max_features': 'sqrt', 'min_samples_split': 10, 'criterion': 'gini', 'max_depth': 10}\": {u'f1': 0.29223036752043835, u'auc': 0.7520336060460376, u'time': 0.16269230842590332, u'precision': 0.1816588842566037, u'recall': 0.7557513460597161}, u\"{'max_features': 'sqrt', 'min_samples_split': 10, 'criterion': 'entropy', 'max_depth': 1}\": {u'f1': 0.12751615017320475, u'auc': 0.5, u'time': 0.041148980458577476, u'precision': 0.0681, u'recall': 1.0}, u\"{'max_features': 'log2', 'min_samples_split': 10, 'criterion': 'entropy', 'max_depth': 50}\": {u'f1': 0.2942993476708928, u'auc': 0.6656773755640502, u'time': 0.4990224043528239, u'precision': 0.2191145923512953, u'recall': 0.4480339370207212}, u\"{'max_features': 'log2', 'min_samples_split': 5, 'criterion': 'gini', 'max_depth': 20}\": {u'f1': 0.2676148155051961, u'auc': 0.6691013370281201, u'time': 0.3272577126820882, u'precision': 0.18230258977368208, u'recall': 0.5036710719530103}, u\"{'max_features': 'sqrt', 'min_samples_split': 2, 'criterion': 'gini', 'max_depth': 20}\": {u'f1': 0.24185736770465752, u'auc': 0.6371134059786346, u'time': 0.2539226214090983, u'precision': 0.16838946381375086, u'recall': 0.4291075216185349}, u\"{'max_features': 'sqrt', 'min_samples_split': 2, 'criterion': 'gini', 'max_depth': 50}\": {u'f1': 0.27474107828345035, u'auc': 0.6130020298461639, u'time': 0.34151530265808105, u'precision': 0.26732320093572476, u'recall': 0.28259096100505793}, u\"{'max_features': 'sqrt', 'min_samples_split': 10, 'criterion': 'gini', 'max_depth': 100}\": {u'f1': 0.2913224989012371, u'auc': 0.6746244858131284, u'time': 0.2864680290222168, u'precision': 0.2085215061305313, u'recall': 0.48327622776961987}, u\"{'max_features': 'sqrt', 'min_samples_split': 10, 'criterion': 'gini', 'max_depth': 5}\": {u'f1': 0.2966429439581677, u'auc': 0.746361926594108, u'time': 0.0998670260111491, u'precision': 0.18854761771387243, u'recall': 0.7337249143416544}, u\"{'max_features': 'log2', 'min_samples_split': 10, 'criterion': 'gini', 'max_depth': 50}\": {u'f1': 0.29258980434030657, u'auc': 0.6723688016021948, u'time': 0.39398900667826336, u'precision': 0.2116843910889092, u'recall': 0.47364986131505954}, u\"{'max_features': 'log2', 'min_samples_split': 2, 'criterion': 'gini', 'max_depth': 100}\": {u'f1': 0.2752701246511083, u'auc': 0.6137108311097504, u'time': 0.42783506711324054, u'precision': 0.26644464472519763, u'recall': 0.2847120248001305}, u\"{'max_features': 'sqrt', 'min_samples_split': 5, 'criterion': 'entropy', 'max_depth': 50}\": {u'f1': 0.2845905992204256, u'auc': 0.6364590026383256, u'time': 0.430716594060262, u'precision': 0.23654077353489014, u'recall': 0.35715451133953335}, u\"{'max_features': 'log2', 'min_samples_split': 10, 'criterion': 'entropy', 'max_depth': 1}\": {u'f1': 0.17686947536054423, u'auc': 0.5754482913248129, u'time': 0.06051770846048991, u'precision': 0.10259660582772974, u'recall': 0.8998205253711862}, u\"{'max_features': 'sqrt', 'min_samples_split': 10, 'criterion': 'entropy', 'max_depth': 5}\": {u'f1': 0.29167533296679155, u'auc': 0.7478802799579406, u'time': 0.14136099815368652, u'precision': 0.1829505130534399, u'recall': 0.7493881546744983}, u\"{'max_features': 'sqrt', 'min_samples_split': 2, 'criterion': 'entropy', 'max_depth': 10}\": {u'f1': 0.2791599471877413, u'auc': 0.7490011187903751, u'time': 0.1893632411956787, u'precision': 0.17038539254002041, u'recall': 0.7741882852015011}, u\"{'max_features': 'log2', 'min_samples_split': 10, 'criterion': 'entropy', 'max_depth': 5}\": {u'f1': 0.26082346275749585, u'auc': 0.7484553187066124, u'time': 0.15972407658894858, u'precision': 0.1548889891224281, u'recall': 0.8277043563387175}, u\"{'max_features': 'sqrt', 'min_samples_split': 10, 'criterion': 'gini', 'max_depth': 50}\": {u'f1': 0.30051309941335214, u'auc': 0.6822320712752511, u'time': 0.2901364167531331, u'precision': 0.21543794083493994, u'recall': 0.496655245553924}, u\"{'max_features': 'log2', 'min_samples_split': 5, 'criterion': 'entropy', 'max_depth': 50}\": {u'f1': 0.28402239309185456, u'auc': 0.6334578112590254, u'time': 0.531421979268392, u'precision': 0.2403796582896911, u'recall': 0.34703866862457167}, u\"{'max_features': 'sqrt', 'min_samples_split': 10, 'criterion': 'entropy', 'max_depth': 20}\": {u'f1': 0.27298125078869545, u'auc': 0.6882370977694207, u'time': 0.33214839299519855, u'precision': 0.18005353661617565, u'recall': 0.5642029694893131}, u\"{'max_features': 'log2', 'min_samples_split': 5, 'criterion': 'gini', 'max_depth': 10}\": {u'f1': 0.2922077477353963, u'auc': 0.7537382989970736, u'time': 0.22368343671162924, u'precision': 0.18097668614204143, u'recall': 0.7583618861151901}, u\"{'max_features': 'log2', 'min_samples_split': 5, 'criterion': 'entropy', 'max_depth': 1}\": {u'f1': 0.27855868699808534, u'auc': 0.7067035907234015, u'time': 0.06730198860168457, u'precision': 0.18252805592885413, u'recall': 0.622287485723609}, u\"{'max_features': 'log2', 'min_samples_split': 5, 'criterion': 'gini', 'max_depth': 1}\": {u'f1': 0.2676883040627107, u'auc': 0.6179259960987217, u'time': 0.049890995025634766, u'precision': 0.22980739629898816, u'recall': 0.634034915973242}, u\"{'max_features': 'sqrt', 'min_samples_split': 10, 'criterion': 'entropy', 'max_depth': 10}\": {u'f1': 0.27932867744672923, u'auc': 0.7499304968922013, u'time': 0.2302570343017578, u'precision': 0.17031906437126754, u'recall': 0.7763093489965737}, u\"{'max_features': 'log2', 'min_samples_split': 2, 'criterion': 'entropy', 'max_depth': 20}\": {u'f1': 0.25535166601433995, u'auc': 0.6514961678702754, u'time': 0.4788808822631836, u'precision': 0.1768493754164143, u'recall': 0.45929189100995266}, u\"{'max_features': 'log2', 'min_samples_split': 10, 'criterion': 'entropy', 'max_depth': 10}\": {u'f1': 0.2907343203292944, u'auc': 0.7488174842173801, u'time': 0.334076722462972, u'precision': 0.1807035094091939, u'recall': 0.7451460270843531}, u\"{'max_features': 'log2', 'min_samples_split': 5, 'criterion': 'gini', 'max_depth': 5}\": {u'f1': 0.2731501836684223, u'auc': 0.7471442884868065, u'time': 0.14136179288228354, u'precision': 0.16571554439367683, u'recall': 0.7852830804372655}, u\"{'max_features': 'sqrt', 'min_samples_split': 5, 'criterion': 'entropy', 'max_depth': 5}\": {u'f1': 0.2734016256998392, u'auc': 0.7351718430746498, u'time': 0.12512572606404623, u'precision': 0.16933646839364794, u'recall': 0.7456355033447544}, u\"{'max_features': 'log2', 'min_samples_split': 2, 'criterion': 'gini', 'max_depth': 5}\": {u'f1': 0.2778751790441663, u'auc': 0.7544541122877836, u'time': 0.11900703112284343, u'precision': 0.16842617916665584, u'recall': 0.7991515744819709}, u\"{'max_features': 'log2', 'min_samples_split': 10, 'criterion': 'gini', 'max_depth': 1}\": {u'f1': 0.17985203662340632, u'auc': 0.5558070080737758, u'time': 0.03541008631388346, u'precision': 0.11353484427339461, u'recall': 0.8226464349812367}}}\n"
     ]
    }
   ],
   "source": [
    "with open('all_models.json') as json_data:\n",
    "    all_models = json.load(json_data)\n",
    "    print(all_models)"
   ]
  },
  {
   "cell_type": "code",
   "execution_count": 26,
   "metadata": {
    "collapsed": false
   },
   "outputs": [],
   "source": [
    "table_auc, best_models_auc, winner_auc = classify.select_best_models(all_models, models, 'auc')\n",
    "table_prec, best_models_prec, winner_prec = classify.select_best_models(all_models, models, 'precision')\n",
    "table_rec, best_models_rec, winner_rec = classify.select_best_models(all_models, models, 'recall')\n",
    "table_f1, best_models_f1, winner_f1 = classify.select_best_models(all_models, models, 'f1')"
   ]
  },
  {
   "cell_type": "code",
   "execution_count": 27,
   "metadata": {
    "collapsed": false
   },
   "outputs": [
    {
     "data": {
      "text/html": [
       "<div>\n",
       "<table border=\"1\" class=\"dataframe\">\n",
       "  <thead>\n",
       "    <tr style=\"text-align: right;\">\n",
       "      <th></th>\n",
       "      <th>auc</th>\n",
       "      <th>f1</th>\n",
       "      <th>precision</th>\n",
       "      <th>recall</th>\n",
       "      <th>time</th>\n",
       "      <th>parameters</th>\n",
       "    </tr>\n",
       "  </thead>\n",
       "  <tbody>\n",
       "    <tr>\n",
       "      <th>RF</th>\n",
       "      <td>0.278872</td>\n",
       "      <td>0.76194</td>\n",
       "      <td>0.76996</td>\n",
       "      <td>0.167969</td>\n",
       "      <td>0.821504</td>\n",
       "      <td>{'max_features': 'log2', 'min_samples_split': ...</td>\n",
       "    </tr>\n",
       "    <tr>\n",
       "      <th>DT</th>\n",
       "      <td>0.277875</td>\n",
       "      <td>0.754454</td>\n",
       "      <td>0.119007</td>\n",
       "      <td>0.168426</td>\n",
       "      <td>0.799152</td>\n",
       "      <td>{'max_features': 'log2', 'min_samples_split': ...</td>\n",
       "    </tr>\n",
       "    <tr>\n",
       "      <th>KNN</th>\n",
       "      <td>0.259064</td>\n",
       "      <td>0.710537</td>\n",
       "      <td>9.99015</td>\n",
       "      <td>0.159803</td>\n",
       "      <td>0.683798</td>\n",
       "      <td>{'n_neighbors': 100, 'weights': 'distance', 'a...</td>\n",
       "    </tr>\n",
       "    <tr>\n",
       "      <th>ET</th>\n",
       "      <td>0.280001</td>\n",
       "      <td>0.74483</td>\n",
       "      <td>6.07153</td>\n",
       "      <td>0.171824</td>\n",
       "      <td>0.755915</td>\n",
       "      <td>{'max_features': 'sqrt', 'min_samples_split': ...</td>\n",
       "    </tr>\n",
       "    <tr>\n",
       "      <th>AB</th>\n",
       "      <td>0.377014</td>\n",
       "      <td>0.654297</td>\n",
       "      <td>0.118041</td>\n",
       "      <td>0.417609</td>\n",
       "      <td>0.343612</td>\n",
       "      <td>{'n_estimators': 1, 'algorithm': 'SAMME.R'}</td>\n",
       "    </tr>\n",
       "    <tr>\n",
       "      <th>GB</th>\n",
       "      <td>0.30174</td>\n",
       "      <td>0.772684</td>\n",
       "      <td>20.8895</td>\n",
       "      <td>0.185814</td>\n",
       "      <td>0.802252</td>\n",
       "      <td>{'n_estimators': 100, 'subsample': 1.0, 'learn...</td>\n",
       "    </tr>\n",
       "    <tr>\n",
       "      <th>LR</th>\n",
       "      <td>0.136212</td>\n",
       "      <td>0.536573</td>\n",
       "      <td>2.57946</td>\n",
       "      <td>0.0752159</td>\n",
       "      <td>0.720509</td>\n",
       "      <td>{'penalty': 'l1', 'C': 1}</td>\n",
       "    </tr>\n",
       "    <tr>\n",
       "      <th>NB</th>\n",
       "      <td>0.0759494</td>\n",
       "      <td>0.518413</td>\n",
       "      <td>0.0584777</td>\n",
       "      <td>0.350806</td>\n",
       "      <td>0.0425844</td>\n",
       "      <td>{}</td>\n",
       "    </tr>\n",
       "  </tbody>\n",
       "</table>\n",
       "</div>"
      ],
      "text/plain": [
       "           auc        f1  precision     recall       time  \\\n",
       "RF    0.278872   0.76194    0.76996   0.167969   0.821504   \n",
       "DT    0.277875  0.754454   0.119007   0.168426   0.799152   \n",
       "KNN   0.259064  0.710537    9.99015   0.159803   0.683798   \n",
       "ET    0.280001   0.74483    6.07153   0.171824   0.755915   \n",
       "AB    0.377014  0.654297   0.118041   0.417609   0.343612   \n",
       "GB     0.30174  0.772684    20.8895   0.185814   0.802252   \n",
       "LR    0.136212  0.536573    2.57946  0.0752159   0.720509   \n",
       "NB   0.0759494  0.518413  0.0584777   0.350806  0.0425844   \n",
       "\n",
       "                                            parameters  \n",
       "RF   {'max_features': 'log2', 'min_samples_split': ...  \n",
       "DT   {'max_features': 'log2', 'min_samples_split': ...  \n",
       "KNN  {'n_neighbors': 100, 'weights': 'distance', 'a...  \n",
       "ET   {'max_features': 'sqrt', 'min_samples_split': ...  \n",
       "AB         {'n_estimators': 1, 'algorithm': 'SAMME.R'}  \n",
       "GB   {'n_estimators': 100, 'subsample': 1.0, 'learn...  \n",
       "LR                           {'penalty': 'l1', 'C': 1}  \n",
       "NB                                                  {}  "
      ]
     },
     "execution_count": 27,
     "metadata": {},
     "output_type": "execute_result"
    }
   ],
   "source": [
    "table_auc"
   ]
  },
  {
   "cell_type": "code",
   "execution_count": 28,
   "metadata": {
    "collapsed": false
   },
   "outputs": [
    {
     "data": {
      "text/html": [
       "<div>\n",
       "<table border=\"1\" class=\"dataframe\">\n",
       "  <thead>\n",
       "    <tr style=\"text-align: right;\">\n",
       "      <th></th>\n",
       "      <th>auc</th>\n",
       "      <th>f1</th>\n",
       "      <th>precision</th>\n",
       "      <th>recall</th>\n",
       "      <th>time</th>\n",
       "      <th>parameters</th>\n",
       "    </tr>\n",
       "  </thead>\n",
       "  <tbody>\n",
       "    <tr>\n",
       "      <th>RF</th>\n",
       "      <td>0.284931</td>\n",
       "      <td>0.755054</td>\n",
       "      <td>11.664</td>\n",
       "      <td>0.174291</td>\n",
       "      <td>0.780225</td>\n",
       "      <td>{'max_features': 'log2', 'min_samples_split': ...</td>\n",
       "    </tr>\n",
       "    <tr>\n",
       "      <th>DT</th>\n",
       "      <td>0.377014</td>\n",
       "      <td>0.654297</td>\n",
       "      <td>0.048637</td>\n",
       "      <td>0.417609</td>\n",
       "      <td>0.343612</td>\n",
       "      <td>{'max_features': 'log2', 'min_samples_split': ...</td>\n",
       "    </tr>\n",
       "    <tr>\n",
       "      <th>KNN</th>\n",
       "      <td>0.232258</td>\n",
       "      <td>0.585416</td>\n",
       "      <td>2.57068</td>\n",
       "      <td>0.245633</td>\n",
       "      <td>0.220264</td>\n",
       "      <td>{'n_neighbors': 1, 'weights': 'uniform', 'algo...</td>\n",
       "    </tr>\n",
       "    <tr>\n",
       "      <th>ET</th>\n",
       "      <td>0.289694</td>\n",
       "      <td>0.712008</td>\n",
       "      <td>0.886959</td>\n",
       "      <td>0.189267</td>\n",
       "      <td>0.61723</td>\n",
       "      <td>{'max_features': 'log2', 'min_samples_split': ...</td>\n",
       "    </tr>\n",
       "    <tr>\n",
       "      <th>AB</th>\n",
       "      <td>0.377014</td>\n",
       "      <td>0.654297</td>\n",
       "      <td>0.118041</td>\n",
       "      <td>0.417609</td>\n",
       "      <td>0.343612</td>\n",
       "      <td>{'n_estimators': 1, 'algorithm': 'SAMME.R'}</td>\n",
       "    </tr>\n",
       "    <tr>\n",
       "      <th>GB</th>\n",
       "      <td>0.354703</td>\n",
       "      <td>0.640238</td>\n",
       "      <td>2075.12</td>\n",
       "      <td>0.407964</td>\n",
       "      <td>0.313754</td>\n",
       "      <td>{'n_estimators': 100, 'subsample': 0.5, 'learn...</td>\n",
       "    </tr>\n",
       "    <tr>\n",
       "      <th>LR</th>\n",
       "      <td>0.136212</td>\n",
       "      <td>0.536573</td>\n",
       "      <td>2.57946</td>\n",
       "      <td>0.0752159</td>\n",
       "      <td>0.720509</td>\n",
       "      <td>{'penalty': 'l1', 'C': 1}</td>\n",
       "    </tr>\n",
       "    <tr>\n",
       "      <th>NB</th>\n",
       "      <td>0.0759494</td>\n",
       "      <td>0.518413</td>\n",
       "      <td>0.0584777</td>\n",
       "      <td>0.350806</td>\n",
       "      <td>0.0425844</td>\n",
       "      <td>{}</td>\n",
       "    </tr>\n",
       "  </tbody>\n",
       "</table>\n",
       "</div>"
      ],
      "text/plain": [
       "           auc        f1  precision     recall       time  \\\n",
       "RF    0.284931  0.755054     11.664   0.174291   0.780225   \n",
       "DT    0.377014  0.654297   0.048637   0.417609   0.343612   \n",
       "KNN   0.232258  0.585416    2.57068   0.245633   0.220264   \n",
       "ET    0.289694  0.712008   0.886959   0.189267    0.61723   \n",
       "AB    0.377014  0.654297   0.118041   0.417609   0.343612   \n",
       "GB    0.354703  0.640238    2075.12   0.407964   0.313754   \n",
       "LR    0.136212  0.536573    2.57946  0.0752159   0.720509   \n",
       "NB   0.0759494  0.518413  0.0584777   0.350806  0.0425844   \n",
       "\n",
       "                                            parameters  \n",
       "RF   {'max_features': 'log2', 'min_samples_split': ...  \n",
       "DT   {'max_features': 'log2', 'min_samples_split': ...  \n",
       "KNN  {'n_neighbors': 1, 'weights': 'uniform', 'algo...  \n",
       "ET   {'max_features': 'log2', 'min_samples_split': ...  \n",
       "AB         {'n_estimators': 1, 'algorithm': 'SAMME.R'}  \n",
       "GB   {'n_estimators': 100, 'subsample': 0.5, 'learn...  \n",
       "LR                           {'penalty': 'l1', 'C': 1}  \n",
       "NB                                                  {}  "
      ]
     },
     "execution_count": 28,
     "metadata": {},
     "output_type": "execute_result"
    }
   ],
   "source": [
    "table_prec"
   ]
  },
  {
   "cell_type": "code",
   "execution_count": 29,
   "metadata": {
    "collapsed": false
   },
   "outputs": [
    {
     "data": {
      "text/html": [
       "<div>\n",
       "<table border=\"1\" class=\"dataframe\">\n",
       "  <thead>\n",
       "    <tr style=\"text-align: right;\">\n",
       "      <th></th>\n",
       "      <th>auc</th>\n",
       "      <th>f1</th>\n",
       "      <th>precision</th>\n",
       "      <th>recall</th>\n",
       "      <th>time</th>\n",
       "      <th>parameters</th>\n",
       "    </tr>\n",
       "  </thead>\n",
       "  <tbody>\n",
       "    <tr>\n",
       "      <th>RF</th>\n",
       "      <td>0.273486</td>\n",
       "      <td>0.759072</td>\n",
       "      <td>4.70586</td>\n",
       "      <td>0.163862</td>\n",
       "      <td>0.826236</td>\n",
       "      <td>{'max_features': 'log2', 'min_samples_split': ...</td>\n",
       "    </tr>\n",
       "    <tr>\n",
       "      <th>DT</th>\n",
       "      <td>0.127516</td>\n",
       "      <td>0.5</td>\n",
       "      <td>0.0374269</td>\n",
       "      <td>0.0681</td>\n",
       "      <td>1</td>\n",
       "      <td>{'max_features': 'sqrt', 'min_samples_split': ...</td>\n",
       "    </tr>\n",
       "    <tr>\n",
       "      <th>KNN</th>\n",
       "      <td>0.238618</td>\n",
       "      <td>0.706972</td>\n",
       "      <td>104.486</td>\n",
       "      <td>0.142239</td>\n",
       "      <td>0.740088</td>\n",
       "      <td>{'n_neighbors': 100, 'weights': 'uniform', 'al...</td>\n",
       "    </tr>\n",
       "    <tr>\n",
       "      <th>ET</th>\n",
       "      <td>0.127524</td>\n",
       "      <td>0.500036</td>\n",
       "      <td>1.70907</td>\n",
       "      <td>0.0681045</td>\n",
       "      <td>1</td>\n",
       "      <td>{'max_features': 'sqrt', 'min_samples_split': ...</td>\n",
       "    </tr>\n",
       "    <tr>\n",
       "      <th>AB</th>\n",
       "      <td>0.127516</td>\n",
       "      <td>0.5</td>\n",
       "      <td>96.1193</td>\n",
       "      <td>0.0681</td>\n",
       "      <td>1</td>\n",
       "      <td>{'n_estimators': 1000, 'algorithm': 'SAMME.R'}</td>\n",
       "    </tr>\n",
       "    <tr>\n",
       "      <th>GB</th>\n",
       "      <td>0.127516</td>\n",
       "      <td>0.5</td>\n",
       "      <td>1.22423</td>\n",
       "      <td>0.0681</td>\n",
       "      <td>1</td>\n",
       "      <td>{'n_estimators': 10, 'subsample': 0.1, 'learni...</td>\n",
       "    </tr>\n",
       "    <tr>\n",
       "      <th>LR</th>\n",
       "      <td>0.126974</td>\n",
       "      <td>0.500799</td>\n",
       "      <td>0.149757</td>\n",
       "      <td>0.0682108</td>\n",
       "      <td>0.916789</td>\n",
       "      <td>{'penalty': 'l1', 'C': 1e-05}</td>\n",
       "    </tr>\n",
       "    <tr>\n",
       "      <th>NB</th>\n",
       "      <td>0.0759494</td>\n",
       "      <td>0.518413</td>\n",
       "      <td>0.0584777</td>\n",
       "      <td>0.350806</td>\n",
       "      <td>0.0425844</td>\n",
       "      <td>{}</td>\n",
       "    </tr>\n",
       "  </tbody>\n",
       "</table>\n",
       "</div>"
      ],
      "text/plain": [
       "           auc        f1  precision     recall       time  \\\n",
       "RF    0.273486  0.759072    4.70586   0.163862   0.826236   \n",
       "DT    0.127516       0.5  0.0374269     0.0681          1   \n",
       "KNN   0.238618  0.706972    104.486   0.142239   0.740088   \n",
       "ET    0.127524  0.500036    1.70907  0.0681045          1   \n",
       "AB    0.127516       0.5    96.1193     0.0681          1   \n",
       "GB    0.127516       0.5    1.22423     0.0681          1   \n",
       "LR    0.126974  0.500799   0.149757  0.0682108   0.916789   \n",
       "NB   0.0759494  0.518413  0.0584777   0.350806  0.0425844   \n",
       "\n",
       "                                            parameters  \n",
       "RF   {'max_features': 'log2', 'min_samples_split': ...  \n",
       "DT   {'max_features': 'sqrt', 'min_samples_split': ...  \n",
       "KNN  {'n_neighbors': 100, 'weights': 'uniform', 'al...  \n",
       "ET   {'max_features': 'sqrt', 'min_samples_split': ...  \n",
       "AB      {'n_estimators': 1000, 'algorithm': 'SAMME.R'}  \n",
       "GB   {'n_estimators': 10, 'subsample': 0.1, 'learni...  \n",
       "LR                       {'penalty': 'l1', 'C': 1e-05}  \n",
       "NB                                                  {}  "
      ]
     },
     "execution_count": 29,
     "metadata": {},
     "output_type": "execute_result"
    }
   ],
   "source": [
    "table_rec"
   ]
  },
  {
   "cell_type": "code",
   "execution_count": 30,
   "metadata": {
    "collapsed": false
   },
   "outputs": [
    {
     "data": {
      "text/html": [
       "<div>\n",
       "<table border=\"1\" class=\"dataframe\">\n",
       "  <thead>\n",
       "    <tr style=\"text-align: right;\">\n",
       "      <th></th>\n",
       "      <th>auc</th>\n",
       "      <th>f1</th>\n",
       "      <th>precision</th>\n",
       "      <th>recall</th>\n",
       "      <th>time</th>\n",
       "      <th>parameters</th>\n",
       "    </tr>\n",
       "  </thead>\n",
       "  <tbody>\n",
       "    <tr>\n",
       "      <th>RF</th>\n",
       "      <td>0.284931</td>\n",
       "      <td>0.755054</td>\n",
       "      <td>11.664</td>\n",
       "      <td>0.174291</td>\n",
       "      <td>0.780225</td>\n",
       "      <td>{'max_features': 'log2', 'min_samples_split': ...</td>\n",
       "    </tr>\n",
       "    <tr>\n",
       "      <th>DT</th>\n",
       "      <td>0.377014</td>\n",
       "      <td>0.654297</td>\n",
       "      <td>0.048637</td>\n",
       "      <td>0.417609</td>\n",
       "      <td>0.343612</td>\n",
       "      <td>{'max_features': 'log2', 'min_samples_split': ...</td>\n",
       "    </tr>\n",
       "    <tr>\n",
       "      <th>KNN</th>\n",
       "      <td>0.271928</td>\n",
       "      <td>0.67837</td>\n",
       "      <td>3.67715</td>\n",
       "      <td>0.182925</td>\n",
       "      <td>0.529613</td>\n",
       "      <td>{'n_neighbors': 5, 'weights': 'distance', 'alg...</td>\n",
       "    </tr>\n",
       "    <tr>\n",
       "      <th>ET</th>\n",
       "      <td>0.291437</td>\n",
       "      <td>0.724221</td>\n",
       "      <td>6.63032</td>\n",
       "      <td>0.187273</td>\n",
       "      <td>0.656714</td>\n",
       "      <td>{'max_features': 'sqrt', 'min_samples_split': ...</td>\n",
       "    </tr>\n",
       "    <tr>\n",
       "      <th>AB</th>\n",
       "      <td>0.377014</td>\n",
       "      <td>0.654297</td>\n",
       "      <td>0.118041</td>\n",
       "      <td>0.417609</td>\n",
       "      <td>0.343612</td>\n",
       "      <td>{'n_estimators': 1, 'algorithm': 'SAMME.R'}</td>\n",
       "    </tr>\n",
       "    <tr>\n",
       "      <th>GB</th>\n",
       "      <td>0.354703</td>\n",
       "      <td>0.640238</td>\n",
       "      <td>2075.12</td>\n",
       "      <td>0.407964</td>\n",
       "      <td>0.313754</td>\n",
       "      <td>{'n_estimators': 100, 'subsample': 0.5, 'learn...</td>\n",
       "    </tr>\n",
       "    <tr>\n",
       "      <th>LR</th>\n",
       "      <td>0.136212</td>\n",
       "      <td>0.536573</td>\n",
       "      <td>2.57946</td>\n",
       "      <td>0.0752159</td>\n",
       "      <td>0.720509</td>\n",
       "      <td>{'penalty': 'l1', 'C': 1}</td>\n",
       "    </tr>\n",
       "    <tr>\n",
       "      <th>NB</th>\n",
       "      <td>0.0759494</td>\n",
       "      <td>0.518413</td>\n",
       "      <td>0.0584777</td>\n",
       "      <td>0.350806</td>\n",
       "      <td>0.0425844</td>\n",
       "      <td>{}</td>\n",
       "    </tr>\n",
       "  </tbody>\n",
       "</table>\n",
       "</div>"
      ],
      "text/plain": [
       "           auc        f1  precision     recall       time  \\\n",
       "RF    0.284931  0.755054     11.664   0.174291   0.780225   \n",
       "DT    0.377014  0.654297   0.048637   0.417609   0.343612   \n",
       "KNN   0.271928   0.67837    3.67715   0.182925   0.529613   \n",
       "ET    0.291437  0.724221    6.63032   0.187273   0.656714   \n",
       "AB    0.377014  0.654297   0.118041   0.417609   0.343612   \n",
       "GB    0.354703  0.640238    2075.12   0.407964   0.313754   \n",
       "LR    0.136212  0.536573    2.57946  0.0752159   0.720509   \n",
       "NB   0.0759494  0.518413  0.0584777   0.350806  0.0425844   \n",
       "\n",
       "                                            parameters  \n",
       "RF   {'max_features': 'log2', 'min_samples_split': ...  \n",
       "DT   {'max_features': 'log2', 'min_samples_split': ...  \n",
       "KNN  {'n_neighbors': 5, 'weights': 'distance', 'alg...  \n",
       "ET   {'max_features': 'sqrt', 'min_samples_split': ...  \n",
       "AB         {'n_estimators': 1, 'algorithm': 'SAMME.R'}  \n",
       "GB   {'n_estimators': 100, 'subsample': 0.5, 'learn...  \n",
       "LR                           {'penalty': 'l1', 'C': 1}  \n",
       "NB                                                  {}  "
      ]
     },
     "execution_count": 30,
     "metadata": {},
     "output_type": "execute_result"
    }
   ],
   "source": [
    "table_f1"
   ]
  },
  {
   "cell_type": "code",
   "execution_count": 31,
   "metadata": {
    "collapsed": false
   },
   "outputs": [
    {
     "data": {
      "text/plain": [
       "{u'AB': {'metrics': {u'auc': 0.6542971356735855,\n",
       "   u'f1': 0.377013963480129,\n",
       "   u'precision': 0.4176085663295657,\n",
       "   u'recall': 0.3436123348017621,\n",
       "   u'time': 0.1180409590403239},\n",
       "  'parameters': u\"{'n_estimators': 1, 'algorithm': 'SAMME.R'}\"},\n",
       " u'DT': {'metrics': {u'auc': 0.7544541122877836,\n",
       "   u'f1': 0.2778751790441663,\n",
       "   u'precision': 0.16842617916665584,\n",
       "   u'recall': 0.7991515744819709,\n",
       "   u'time': 0.11900703112284343},\n",
       "  'parameters': u\"{'max_features': 'log2', 'min_samples_split': 2, 'criterion': 'gini', 'max_depth': 5}\"},\n",
       " u'ET': {'metrics': {u'auc': 0.7448301882246934,\n",
       "   u'f1': 0.2800006920264007,\n",
       "   u'precision': 0.1718238412373433,\n",
       "   u'recall': 0.7559145048131833,\n",
       "   u'time': 6.0715320110321045},\n",
       "  'parameters': u\"{'max_features': 'sqrt', 'min_samples_split': 10, 'criterion': 'entropy', 'max_depth': 50, 'n_estimators': 100}\"},\n",
       " u'GB': {'metrics': {u'auc': 0.7726844986455758,\n",
       "   u'f1': 0.30173974466930503,\n",
       "   u'precision': 0.18581362006062804,\n",
       "   u'recall': 0.8022515907978464,\n",
       "   u'time': 20.889452298482258},\n",
       "  'parameters': u\"{'n_estimators': 100, 'subsample': 1.0, 'learning_rate': 0.1, 'max_depth': 5}\"},\n",
       " u'KNN': {'metrics': {u'auc': 0.7105367184143764,\n",
       "   u'f1': 0.2590635141400093,\n",
       "   u'precision': 0.15980324868451154,\n",
       "   u'recall': 0.6837983357807146,\n",
       "   u'time': 9.990153630574545},\n",
       "  'parameters': u\"{'n_neighbors': 100, 'weights': 'distance', 'algorithm': 'kd_tree'}\"},\n",
       " u'LR': {'metrics': {u'auc': 0.5365729213791034,\n",
       "   u'f1': 0.13621221474709164,\n",
       "   u'precision': 0.07521588803737285,\n",
       "   u'recall': 0.7205090553108174,\n",
       "   u'time': 2.5794593493143716},\n",
       "  'parameters': u\"{'penalty': 'l1', 'C': 1}\"},\n",
       " u'NB': {'metrics': {u'auc': 0.5184127953580067,\n",
       "   u'f1': 0.0759493670886076,\n",
       "   u'precision': 0.35080645161290325,\n",
       "   u'recall': 0.042584434654919234,\n",
       "   u'time': 0.05847771962483724},\n",
       "  'parameters': u'{}'},\n",
       " u'RF': {'metrics': {u'auc': 0.7619402960118934,\n",
       "   u'f1': 0.27887189548820085,\n",
       "   u'precision': 0.16796894750697325,\n",
       "   u'recall': 0.8215043237069669,\n",
       "   u'time': 0.7699596087137858},\n",
       "  'parameters': u\"{'max_features': 'log2', 'min_samples_split': 2, 'n_estimators': 10, 'max_depth': 5}\"}}"
      ]
     },
     "execution_count": 31,
     "metadata": {},
     "output_type": "execute_result"
    }
   ],
   "source": [
    "best_models_auc"
   ]
  },
  {
   "cell_type": "code",
   "execution_count": 32,
   "metadata": {
    "collapsed": false
   },
   "outputs": [
    {
     "data": {
      "text/plain": [
       "{u'AB': {'metrics': {u'auc': 0.6542971356735855,\n",
       "   u'f1': 0.377013963480129,\n",
       "   u'precision': 0.4176085663295657,\n",
       "   u'recall': 0.3436123348017621,\n",
       "   u'time': 0.1180409590403239},\n",
       "  'parameters': u\"{'n_estimators': 1, 'algorithm': 'SAMME.R'}\"},\n",
       " u'DT': {'metrics': {u'auc': 0.6542971356735855,\n",
       "   u'f1': 0.377013963480129,\n",
       "   u'precision': 0.4176085663295657,\n",
       "   u'recall': 0.3436123348017621,\n",
       "   u'time': 0.04863699277242025},\n",
       "  'parameters': u\"{'max_features': 'log2', 'min_samples_split': 2, 'criterion': 'entropy', 'max_depth': 1}\"},\n",
       " u'ET': {'metrics': {u'auc': 0.7120080885702539,\n",
       "   u'f1': 0.2896943410177128,\n",
       "   u'precision': 0.1892665544234923,\n",
       "   u'recall': 0.6172295643661282,\n",
       "   u'time': 0.8869589964548746},\n",
       "  'parameters': u\"{'max_features': 'log2', 'min_samples_split': 2, 'criterion': 'gini', 'max_depth': 50, 'n_estimators': 10}\"},\n",
       " u'GB': {'metrics': {u'auc': 0.6402384940119652,\n",
       "   u'f1': 0.3547031504881209,\n",
       "   u'precision': 0.407964196263168,\n",
       "   u'recall': 0.3137542829172785,\n",
       "   u'time': 2075.1238430341086},\n",
       "  'parameters': u\"{'n_estimators': 100, 'subsample': 0.5, 'learning_rate': 0.1, 'max_depth': 50}\"},\n",
       " u'KNN': {'metrics': {u'auc': 0.5854156296351272,\n",
       "   u'f1': 0.23225806451612904,\n",
       "   u'precision': 0.24563318777292575,\n",
       "   u'recall': 0.22026431718061676,\n",
       "   u'time': 2.5706799825032554},\n",
       "  'parameters': u\"{'n_neighbors': 1, 'weights': 'uniform', 'algorithm': 'kd_tree'}\"},\n",
       " u'LR': {'metrics': {u'auc': 0.5365729213791034,\n",
       "   u'f1': 0.13621221474709164,\n",
       "   u'precision': 0.07521588803737285,\n",
       "   u'recall': 0.7205090553108174,\n",
       "   u'time': 2.5794593493143716},\n",
       "  'parameters': u\"{'penalty': 'l1', 'C': 1}\"},\n",
       " u'NB': {'metrics': {u'auc': 0.5184127953580067,\n",
       "   u'f1': 0.0759493670886076,\n",
       "   u'precision': 0.35080645161290325,\n",
       "   u'recall': 0.042584434654919234,\n",
       "   u'time': 0.05847771962483724},\n",
       "  'parameters': u'{}'},\n",
       " u'RF': {'metrics': {u'auc': 0.7550539776393546,\n",
       "   u'f1': 0.2849311955553357,\n",
       "   u'precision': 0.17429087240618105,\n",
       "   u'recall': 0.7802251590797846,\n",
       "   u'time': 11.664030949274698},\n",
       "  'parameters': u\"{'max_features': 'log2', 'min_samples_split': 10, 'n_estimators': 100, 'max_depth': 50}\"}}"
      ]
     },
     "execution_count": 32,
     "metadata": {},
     "output_type": "execute_result"
    }
   ],
   "source": [
    "best_models_prec"
   ]
  },
  {
   "cell_type": "code",
   "execution_count": 33,
   "metadata": {
    "collapsed": false
   },
   "outputs": [
    {
     "data": {
      "text/plain": [
       "{u'AB': {'metrics': {u'auc': 0.5,\n",
       "   u'f1': 0.12751615017320475,\n",
       "   u'precision': 0.0681,\n",
       "   u'recall': 1.0,\n",
       "   u'time': 96.11926698684692},\n",
       "  'parameters': u\"{'n_estimators': 1000, 'algorithm': 'SAMME.R'}\"},\n",
       " u'DT': {'metrics': {u'auc': 0.5,\n",
       "   u'f1': 0.12751615017320475,\n",
       "   u'precision': 0.0681,\n",
       "   u'recall': 1.0,\n",
       "   u'time': 0.03742694854736328},\n",
       "  'parameters': u\"{'max_features': 'sqrt', 'min_samples_split': 5, 'criterion': 'gini', 'max_depth': 1}\"},\n",
       " u'ET': {'metrics': {u'auc': 0.5000357692170119,\n",
       "   u'f1': 0.12752410973440279,\n",
       "   u'precision': 0.06810454030268684,\n",
       "   u'recall': 1.0,\n",
       "   u'time': 1.7090657552083333},\n",
       "  'parameters': u\"{'max_features': 'sqrt', 'min_samples_split': 10, 'criterion': 'gini', 'max_depth': 5, 'n_estimators': 100}\"},\n",
       " u'GB': {'metrics': {u'auc': 0.5,\n",
       "   u'f1': 0.12751615017320475,\n",
       "   u'precision': 0.0681,\n",
       "   u'recall': 1.0,\n",
       "   u'time': 1.2242276668548584},\n",
       "  'parameters': u\"{'n_estimators': 10, 'subsample': 0.1, 'learning_rate': 0.001, 'max_depth': 5}\"},\n",
       " u'KNN': {'metrics': {u'auc': 0.7069721925064595,\n",
       "   u'f1': 0.23861753333859384,\n",
       "   u'precision': 0.14223894637817497,\n",
       "   u'recall': 0.7400881057268722,\n",
       "   u'time': 104.4858747323354},\n",
       "  'parameters': u\"{'n_neighbors': 100, 'weights': 'uniform', 'algorithm': 'ball_tree'}\"},\n",
       " u'LR': {'metrics': {u'auc': 0.5007989246334194,\n",
       "   u'f1': 0.126974442410684,\n",
       "   u'precision': 0.06821078699151462,\n",
       "   u'recall': 0.916789035731767,\n",
       "   u'time': 0.14975738525390625},\n",
       "  'parameters': u\"{'penalty': 'l1', 'C': 1e-05}\"},\n",
       " u'NB': {'metrics': {u'auc': 0.5184127953580067,\n",
       "   u'f1': 0.0759493670886076,\n",
       "   u'precision': 0.35080645161290325,\n",
       "   u'recall': 0.042584434654919234,\n",
       "   u'time': 0.05847771962483724},\n",
       "  'parameters': u'{}'},\n",
       " u'RF': {'metrics': {u'auc': 0.7590718691811008,\n",
       "   u'f1': 0.2734858577589823,\n",
       "   u'precision': 0.16386232183940538,\n",
       "   u'recall': 0.8262359275575134,\n",
       "   u'time': 4.70586093266805},\n",
       "  'parameters': u\"{'max_features': 'log2', 'min_samples_split': 2, 'n_estimators': 100, 'max_depth': 5}\"}}"
      ]
     },
     "execution_count": 33,
     "metadata": {},
     "output_type": "execute_result"
    }
   ],
   "source": [
    "best_models_rec"
   ]
  },
  {
   "cell_type": "code",
   "execution_count": 34,
   "metadata": {
    "collapsed": false
   },
   "outputs": [
    {
     "data": {
      "text/plain": [
       "{u'AB': {'metrics': {u'auc': 0.6542971356735855,\n",
       "   u'f1': 0.377013963480129,\n",
       "   u'precision': 0.4176085663295657,\n",
       "   u'recall': 0.3436123348017621,\n",
       "   u'time': 0.1180409590403239},\n",
       "  'parameters': u\"{'n_estimators': 1, 'algorithm': 'SAMME.R'}\"},\n",
       " u'DT': {'metrics': {u'auc': 0.6542971356735855,\n",
       "   u'f1': 0.377013963480129,\n",
       "   u'precision': 0.4176085663295657,\n",
       "   u'recall': 0.3436123348017621,\n",
       "   u'time': 0.04863699277242025},\n",
       "  'parameters': u\"{'max_features': 'log2', 'min_samples_split': 2, 'criterion': 'entropy', 'max_depth': 1}\"},\n",
       " u'ET': {'metrics': {u'auc': 0.7242208775587837,\n",
       "   u'f1': 0.29143654209261255,\n",
       "   u'precision': 0.18727308993996475,\n",
       "   u'recall': 0.6567139827051721,\n",
       "   u'time': 6.6303244431813555},\n",
       "  'parameters': u\"{'max_features': 'sqrt', 'min_samples_split': 2, 'criterion': 'entropy', 'max_depth': 50, 'n_estimators': 100}\"},\n",
       " u'GB': {'metrics': {u'auc': 0.6402384940119652,\n",
       "   u'f1': 0.3547031504881209,\n",
       "   u'precision': 0.407964196263168,\n",
       "   u'recall': 0.3137542829172785,\n",
       "   u'time': 2075.1238430341086},\n",
       "  'parameters': u\"{'n_estimators': 100, 'subsample': 0.5, 'learning_rate': 0.1, 'max_depth': 50}\"},\n",
       " u'KNN': {'metrics': {u'auc': 0.6783703439680311,\n",
       "   u'f1': 0.27192762000502635,\n",
       "   u'precision': 0.18292476754015216,\n",
       "   u'recall': 0.5296133137542829,\n",
       "   u'time': 3.6771457195281982},\n",
       "  'parameters': u\"{'n_neighbors': 5, 'weights': 'distance', 'algorithm': 'kd_tree'}\"},\n",
       " u'LR': {'metrics': {u'auc': 0.5365729213791034,\n",
       "   u'f1': 0.13621221474709164,\n",
       "   u'precision': 0.07521588803737285,\n",
       "   u'recall': 0.7205090553108174,\n",
       "   u'time': 2.5794593493143716},\n",
       "  'parameters': u\"{'penalty': 'l1', 'C': 1}\"},\n",
       " u'NB': {'metrics': {u'auc': 0.5184127953580067,\n",
       "   u'f1': 0.0759493670886076,\n",
       "   u'precision': 0.35080645161290325,\n",
       "   u'recall': 0.042584434654919234,\n",
       "   u'time': 0.05847771962483724},\n",
       "  'parameters': u'{}'},\n",
       " u'RF': {'metrics': {u'auc': 0.7550539776393546,\n",
       "   u'f1': 0.2849311955553357,\n",
       "   u'precision': 0.17429087240618105,\n",
       "   u'recall': 0.7802251590797846,\n",
       "   u'time': 11.664030949274698},\n",
       "  'parameters': u\"{'max_features': 'log2', 'min_samples_split': 10, 'n_estimators': 100, 'max_depth': 50}\"}}"
      ]
     },
     "execution_count": 34,
     "metadata": {},
     "output_type": "execute_result"
    }
   ],
   "source": [
    "best_models_f1"
   ]
  },
  {
   "cell_type": "code",
   "execution_count": 35,
   "metadata": {
    "collapsed": false
   },
   "outputs": [
    {
     "data": {
      "text/plain": [
       "((u'GB',\n",
       "  u\"{'n_estimators': 100, 'subsample': 0.1, 'learning_rate': 0.5, 'max_depth': 50}\"),\n",
       " 0.7726844986455758)"
      ]
     },
     "execution_count": 35,
     "metadata": {},
     "output_type": "execute_result"
    }
   ],
   "source": [
    "winner_auc"
   ]
  },
  {
   "cell_type": "code",
   "execution_count": 36,
   "metadata": {
    "collapsed": false
   },
   "outputs": [
    {
     "data": {
      "text/plain": [
       "((u'AB', u\"{'n_estimators': 1, 'algorithm': 'SAMME.R'}\"), 0.4176085663295657)"
      ]
     },
     "execution_count": 36,
     "metadata": {},
     "output_type": "execute_result"
    }
   ],
   "source": [
    "winner_prec"
   ]
  },
  {
   "cell_type": "code",
   "execution_count": 37,
   "metadata": {
    "collapsed": false
   },
   "outputs": [
    {
     "data": {
      "text/plain": [
       "((u'AB', u\"{'n_estimators': 1, 'algorithm': 'SAMME.R'}\"), 1.0)"
      ]
     },
     "execution_count": 37,
     "metadata": {},
     "output_type": "execute_result"
    }
   ],
   "source": [
    "winner_rec"
   ]
  },
  {
   "cell_type": "code",
   "execution_count": 38,
   "metadata": {
    "collapsed": false
   },
   "outputs": [
    {
     "data": {
      "text/plain": [
       "((u'AB', u\"{'n_estimators': 1, 'algorithm': 'SAMME.R'}\"), 0.377013963480129)"
      ]
     },
     "execution_count": 38,
     "metadata": {},
     "output_type": "execute_result"
    }
   ],
   "source": [
    "winner_f1"
   ]
  },
  {
   "cell_type": "code",
   "execution_count": 39,
   "metadata": {
    "collapsed": false
   },
   "outputs": [
    {
     "data": {
      "text/plain": [
       "<matplotlib.figure.Figure at 0x11525a890>"
      ]
     },
     "metadata": {},
     "output_type": "display_data"
    },
    {
     "data": {
      "image/png": "[encoded data removed]",
      "text/plain": [
       "<matplotlib.figure.Figure at 0x115244090>"
      ]
     },
     "metadata": {},
     "output_type": "display_data"
    },
    {
     "data": {
      "text/plain": [
       "<matplotlib.figure.Figure at 0x116136f10>"
      ]
     },
     "metadata": {},
     "output_type": "display_data"
    },
    {
     "data": {
      "image/png": "[encoded data removed]",
      "text/plain": [
       "<matplotlib.figure.Figure at 0x1158b7810>"
      ]
     },
     "metadata": {},
     "output_type": "display_data"
    },
    {
     "data": {
      "text/plain": [
       "<matplotlib.figure.Figure at 0x11610a510>"
      ]
     },
     "metadata": {},
     "output_type": "display_data"
    },
    {
     "data": {
      "image/png": "[encoded data removed]",
      "text/plain": [
       "<matplotlib.figure.Figure at 0x113d03b90>"
      ]
     },
     "metadata": {},
     "output_type": "display_data"
    },
    {
     "data": {
      "text/plain": [
       "<matplotlib.figure.Figure at 0x115e5bc50>"
      ]
     },
     "metadata": {},
     "output_type": "display_data"
    },
    {
     "data": {
      "image/png": "[encoded data removed]",
      "text/plain": [
       "<matplotlib.figure.Figure at 0x113ce2850>"
      ]
     },
     "metadata": {},
     "output_type": "display_data"
    },
    {
     "data": {
      "text/plain": [
       "<matplotlib.figure.Figure at 0x10ea22f50>"
      ]
     },
     "metadata": {},
     "output_type": "display_data"
    },
    {
     "data": {
      "image/png": "[encoded data removed]",
      "text/plain": [
       "<matplotlib.figure.Figure at 0x119fc0e50>"
      ]
     },
     "metadata": {},
     "output_type": "display_data"
    },
    {
     "data": {
      "text/plain": [
       "<matplotlib.figure.Figure at 0x11a3bc690>"
      ]
     },
     "metadata": {},
     "output_type": "display_data"
    },
    {
     "data": {
      "image/png": "[encoded data removed]",
      "text/plain": [
       "<matplotlib.figure.Figure at 0x115ad8c50>"
      ]
     },
     "metadata": {},
     "output_type": "display_data"
    },
    {
     "data": {
      "text/plain": [
       "<matplotlib.figure.Figure at 0x11a3c3650>"
      ]
     },
     "metadata": {},
     "output_type": "display_data"
    },
    {
     "data": {
      "image/png": "[encoded data removed]",
      "text/plain": [
       "<matplotlib.figure.Figure at 0x115898090>"
      ]
     },
     "metadata": {},
     "output_type": "display_data"
    },
    {
     "data": {
      "text/plain": [
       "<matplotlib.figure.Figure at 0x115652750>"
      ]
     },
     "metadata": {},
     "output_type": "display_data"
    },
    {
     "data": {
      "image/png": "[encoded data removed]",
      "text/plain": [
       "<matplotlib.figure.Figure at 0x119fd0350>"
      ]
     },
     "metadata": {},
     "output_type": "display_data"
    }
   ],
   "source": [
    "classify.gen_precision_recall_plots(df[sel_fts], df[DEP_VAR], best_models_auc,classifiers)"
   ]
  },
  {
   "cell_type": "code",
   "execution_count": null,
   "metadata": {
    "collapsed": true
   },
   "outputs": [],
   "source": []
  },
  {
   "cell_type": "code",
   "execution_count": null,
   "metadata": {
    "collapsed": true
   },
   "outputs": [],
   "source": []
  },
  {
   "cell_type": "code",
   "execution_count": null,
   "metadata": {
    "collapsed": true
   },
   "outputs": [],
   "source": []
  }
 ],
 "metadata": {
  "kernelspec": {
   "display_name": "Python [Root]",
   "language": "python",
   "name": "Python [Root]"
  },
  "language_info": {
   "codemirror_mode": {
    "name": "ipython",
    "version": 3
   },
   "file_extension": ".py",
   "mimetype": "text/x-python",
   "name": "python",
   "nbconvert_exporter": "python",
   "pygments_lexer": "ipython3",
   "version": "3.5.2"
  }
 },
 "nbformat": 4,
 "nbformat_minor": 2
}
